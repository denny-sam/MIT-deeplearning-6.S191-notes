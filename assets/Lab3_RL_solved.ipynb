{
  "nbformat": 4,
  "nbformat_minor": 0,
  "metadata": {
    "colab": {
      "name": "Lab3_RL_solved.ipynb",
      "provenance": [],
      "collapsed_sections": [
        "jrI6q7RmWQam"
      ]
    },
    "kernelspec": {
      "name": "python3",
      "display_name": "Python 3"
    },
    "accelerator": "GPU"
  },
  "cells": [
    {
      "cell_type": "markdown",
      "metadata": {
        "id": "jrI6q7RmWQam"
      },
      "source": [
        "<table align=\"center\">\n",
        "  <td align=\"center\"><a target=\"_blank\" href=\"http://introtodeeplearning.com\">\n",
        "        <img src=\"http://introtodeeplearning.com/images/colab/mit.png\" style=\"padding-bottom:5px;\" />\n",
        "      Visit MIT Deep Learning</a></td>\n",
        "  <td align=\"center\"><a target=\"_blank\" href=\"https://colab.research.google.com/github/aamini/introtodeeplearning/blob/master/lab3/RL.ipynb\">\n",
        "        <img src=\"http://introtodeeplearning.com/images/colab/colab.png?v2.0\"  style=\"padding-bottom:5px;\" />Run in Google Colab</a></td>\n",
        "  <td align=\"center\"><a target=\"_blank\" href=\"https://github.com/aamini/introtodeeplearning/blob/master/lab3/RL.ipynb\">\n",
        "        <img src=\"http://introtodeeplearning.com/images/colab/github.png\"  height=\"70px\" style=\"padding-bottom:5px;\"  />View Source on GitHub</a></td>\n",
        "</table>\n",
        "\n",
        "# Copyright Information"
      ]
    },
    {
      "cell_type": "code",
      "metadata": {
        "id": "wkd375upWYok"
      },
      "source": [
        "# Copyright 2020 MIT 6.S191 Introduction to Deep Learning. All Rights Reserved.\n",
        "# \n",
        "# Licensed under the MIT License. You may not use this file except in compliance\n",
        "# with the License. Use and/or modification of this code outside of 6.S191 must\n",
        "# reference:\n",
        "#\n",
        "# © MIT 6.S191: Introduction to Deep Learning\n",
        "# http://introtodeeplearning.com\n",
        "#"
      ],
      "execution_count": null,
      "outputs": []
    },
    {
      "cell_type": "markdown",
      "metadata": {
        "id": "WoXYKhfZMHiw"
      },
      "source": [
        "# Laboratory 3: Reinforcement Learning\n",
        "\n",
        "Reinforcement learning (RL) is a subset of machine learning which poses learning problems as interactions between agents and environments. It often assumes agents have no prior knowledge of a world, so they must learn to navigate environments by optimizing a reward function. Within an environment, an agent can take certain actions and receive feedback, in the form of positive or negative rewards, with respect to their decision. As such, an agent's feedback loop is somewhat akin to the idea of \"trial and error\", or the manner in which a child might learn to distinguish between \"good\" and \"bad\" actions.\n",
        "\n",
        "In practical terms, our RL agent will interact with the environment by taking an action at each timestep, receiving a corresponding reward, and updating its state according to what it has \"learned\".  \n",
        "\n",
        "![alt text](https://www.kdnuggets.com/images/reinforcement-learning-fig1-700.jpg)\n",
        "\n",
        "While the ultimate goal of reinforcement learning is to teach agents to act in the real, physical world, games provide a convenient proving ground for developing RL algorithms and agents. Games have some properties that make them particularly well suited for RL: \n",
        "\n",
        "1.   In many cases, games have perfectly describable environments. For example, all rules of chess can be formally written and programmed into a chess game simulator;\n",
        "2.   Games are massively parallelizable. Since they do not require running in the real world, simultaneous environments can be run on large data clusters; \n",
        "3.   Simpler scenarios in games enable fast prototyping. This speeds up the development of algorithms that could eventually run in the real-world; and\n",
        "4.   ... Games are fun! \n",
        "\n",
        "In previous labs, we have explored both supervised (with LSTMs, CNNs) and unsupervised / semi-supervised (with VAEs) learning tasks. Reinforcement learning is fundamentally different, in that we are training a deep learning algorithm to govern the actions of our RL agent, that is trying, within its environment, to find the optimal way to achieve a goal. The goal of training an RL agent is to determine the best next step to take to earn the greatest final payoff or return. In this lab, we focus on building a reinforcement learning algorithm to master two different environments with varying complexity. \n",
        "\n",
        "1.   **Cartpole**:   Balance a pole, protruding from a cart, in an upright position by only moving the base left or right. Environment with a low-dimensional observation space.\n",
        "2.   [**Pong**](https://en.wikipedia.org/wiki/Pong): Beat your competitors (whether other AI or humans!) at the game of Pong. Environment with a high-dimensional observation space -- learning directly from raw pixels.\n",
        "\n",
        "Let's get started! First we'll import TensorFlow, the course package, and some dependencies.\n"
      ]
    },
    {
      "cell_type": "code",
      "metadata": {
        "id": "EvdePP-VyVWp",
        "colab": {
          "base_uri": "https://localhost:8080/"
        },
        "outputId": "dfe836db-fafa-449f-8670-bc32e136c43d"
      },
      "source": [
        "!apt-get install -y xvfb python-opengl x11-utils > /dev/null 2>&1\n",
        "!pip install gym pyvirtualdisplay scikit-video > /dev/null 2>&1\n",
        "\n",
        "%tensorflow_version 2.x\n",
        "import tensorflow as tf\n",
        "\n",
        "import numpy as np\n",
        "import base64, io, time, gym\n",
        "import IPython, functools\n",
        "import matplotlib.pyplot as plt\n",
        "from tqdm import tqdm\n",
        "\n",
        "!pip install mitdeeplearning\n",
        "import mitdeeplearning as mdl"
      ],
      "execution_count": 4,
      "outputs": [
        {
          "output_type": "stream",
          "text": [
            "Collecting mitdeeplearning\n",
            "\u001b[?25l  Downloading https://files.pythonhosted.org/packages/8b/3b/b9174b68dc10832356d02a2d83a64b43a24f1762c172754407d22fc8f960/mitdeeplearning-0.1.2.tar.gz (2.1MB)\n",
            "\u001b[K     |████████████████████████████████| 2.1MB 17.2MB/s \n",
            "\u001b[?25hRequirement already satisfied: numpy in /usr/local/lib/python3.6/dist-packages (from mitdeeplearning) (1.19.5)\n",
            "Requirement already satisfied: regex in /usr/local/lib/python3.6/dist-packages (from mitdeeplearning) (2019.12.20)\n",
            "Requirement already satisfied: tqdm in /usr/local/lib/python3.6/dist-packages (from mitdeeplearning) (4.41.1)\n",
            "Requirement already satisfied: gym in /usr/local/lib/python3.6/dist-packages (from mitdeeplearning) (0.17.3)\n",
            "Requirement already satisfied: pyglet<=1.5.0,>=1.4.0 in /usr/local/lib/python3.6/dist-packages (from gym->mitdeeplearning) (1.5.0)\n",
            "Requirement already satisfied: cloudpickle<1.7.0,>=1.2.0 in /usr/local/lib/python3.6/dist-packages (from gym->mitdeeplearning) (1.3.0)\n",
            "Requirement already satisfied: scipy in /usr/local/lib/python3.6/dist-packages (from gym->mitdeeplearning) (1.4.1)\n",
            "Requirement already satisfied: future in /usr/local/lib/python3.6/dist-packages (from pyglet<=1.5.0,>=1.4.0->gym->mitdeeplearning) (0.16.0)\n",
            "Building wheels for collected packages: mitdeeplearning\n",
            "  Building wheel for mitdeeplearning (setup.py) ... \u001b[?25l\u001b[?25hdone\n",
            "  Created wheel for mitdeeplearning: filename=mitdeeplearning-0.1.2-cp36-none-any.whl size=2114587 sha256=8f86b5e6e065bd6a34af5f99c44b660e7a7057032d47efe47aeae2d0cd1c5110\n",
            "  Stored in directory: /root/.cache/pip/wheels/27/e1/73/5f01c787621d8a3c857f59876c79e304b9b64db9ff5bd61b74\n",
            "Successfully built mitdeeplearning\n",
            "Installing collected packages: mitdeeplearning\n",
            "Successfully installed mitdeeplearning-0.1.2\n"
          ],
          "name": "stdout"
        }
      ]
    },
    {
      "cell_type": "markdown",
      "metadata": {
        "id": "zmrHSiXKTXTY"
      },
      "source": [
        "Before we dive in, let's take a step back and outline our approach, which is generally applicable to reinforcement learning problems in general:\n",
        "\n",
        "1. **Initialize our environment and our agent**: here we will describe the different observations and actions the agent can make in the environment.\n",
        "2. **Define our agent's memory**: this will enable the agent to remember its past actions, observations, and rewards.\n",
        "3. **Define a reward function**: describes the reward associated with an action or sequence of actions.\n",
        "4. **Define the learning algorithm**: this will be used to reinforce the agent's good behaviors and discourage bad behaviors.\n"
      ]
    },
    {
      "cell_type": "markdown",
      "metadata": {
        "id": "UT7YL8KBJIIc"
      },
      "source": [
        "# Part 1: Cartpole\n",
        "\n",
        "## 3.1 Define the Cartpole environment and agent\n",
        "\n",
        "### Environment \n",
        "\n",
        "In order to model the environment for both the Cartpole and Pong tasks, we'll be using a toolkit developed by OpenAI called [OpenAI Gym](https://gym.openai.com/). It provides several pre-defined environments for training and testing reinforcement learning agents, including those for classic physics control tasks, Atari video games, and robotic simulations. To access the Cartpole environment, we can use `env = gym.make(\"CartPole-v0\")`, which we gained access to when we imported the `gym` package. We can instantiate different [environments](https://gym.openai.com/envs/#classic_control) by passing the enivronment name to the `make` function.\n",
        "\n",
        "One issue we might experience when developing RL algorithms is that many aspects of the learning process are inherently random: initializing game states, changes in the environment, and the agent's actions. As such, it can be helpful to set a initial \"seed\" for the environment to ensure some level of reproducibility. Much like you might use `numpy.random.seed`, we can call the comparable function in gym, `seed`, with our defined environment to ensure the environment's random variables are initialized the same each time."
      ]
    },
    {
      "cell_type": "code",
      "metadata": {
        "id": "quv9SC0iIYFm",
        "colab": {
          "base_uri": "https://localhost:8080/"
        },
        "outputId": "42881e3f-6cfa-432a-9d4f-2043be97b8aa"
      },
      "source": [
        "### Instantiate the Cartpole environment ###\n",
        "\n",
        "env = gym.make(\"CartPole-v0\")\n",
        "env.seed(1)"
      ],
      "execution_count": 5,
      "outputs": [
        {
          "output_type": "execute_result",
          "data": {
            "text/plain": [
              "[1]"
            ]
          },
          "metadata": {
            "tags": []
          },
          "execution_count": 5
        }
      ]
    },
    {
      "cell_type": "markdown",
      "metadata": {
        "id": "mhEITUcKK455"
      },
      "source": [
        "In Cartpole, a pole is attached by an un-actuated joint to a cart, which moves along a frictionless track. The pole starts upright, and the goal is to prevent it from falling over. The system is controlled by applying a force of +1 or -1 to the cart. A reward of +1 is provided for every timestep that the pole remains upright. The episode ends when the pole is more than 15 degrees from vertical, or the cart moves more than 2.4 units from the center of the track. A visual summary of the cartpole environment is depicted below:\n",
        "\n",
        "<img width=\"400px\" src=\"https://danielpiedrahita.files.wordpress.com/2017/02/cart-pole.png\"></img>\n",
        "\n",
        "Given this setup for the environment and the objective of the game, we can think about: 1) what observations help define the environment's state; 2) what actions the agent can take. \n",
        "\n",
        "First, let's consider the observation space. In this Cartpole environment our observations are:\n",
        "\n",
        "1. Cart position\n",
        "2. Cart velocity\n",
        "3. Pole angle\n",
        "4. Pole rotation rate\n",
        "\n",
        "We can confirm the size of the space by querying the environment's observation space:\n"
      ]
    },
    {
      "cell_type": "code",
      "metadata": {
        "id": "UVJaEcbdIX82",
        "colab": {
          "base_uri": "https://localhost:8080/"
        },
        "outputId": "6a77a1b0-f697-4086-af05-727f9cb9eb06"
      },
      "source": [
        "n_observations = env.observation_space\n",
        "print(\"Environment has observation space =\", n_observations)"
      ],
      "execution_count": 6,
      "outputs": [
        {
          "output_type": "stream",
          "text": [
            "Environment has observation space = Box(-3.4028234663852886e+38, 3.4028234663852886e+38, (4,), float32)\n"
          ],
          "name": "stdout"
        }
      ]
    },
    {
      "cell_type": "markdown",
      "metadata": {
        "id": "ZibGgjrALgPM"
      },
      "source": [
        "Second, we consider the action space. At every time step, the agent can move either right or left. Again we can confirm the size of the action space by querying the environment:"
      ]
    },
    {
      "cell_type": "code",
      "metadata": {
        "id": "qc9SIPxBIXrm",
        "colab": {
          "base_uri": "https://localhost:8080/"
        },
        "outputId": "73af9cba-c470-46d9-d0ab-19ec84a65317"
      },
      "source": [
        "n_actions = env.action_space.n\n",
        "print(\"Number of possible actions that the agent can choose from =\", n_actions)"
      ],
      "execution_count": 7,
      "outputs": [
        {
          "output_type": "stream",
          "text": [
            "Number of possible actions that the agent can choose from = 2\n"
          ],
          "name": "stdout"
        }
      ]
    },
    {
      "cell_type": "markdown",
      "metadata": {
        "id": "pPfHME8aRKkb"
      },
      "source": [
        "### Cartpole agent\n",
        "\n",
        "Now that we have instantiated the environment and understood the dimensionality of the observation and action spaces, we are ready to define our agent. In deep reinforcement learning, a deep neural network defines the agent. This network will take as input an observation of the environment and output the probability of taking each of the possible actions. Since Cartpole is defined by a low-dimensional observation space, a simple feed-forward neural network should work well for our agent. We will define this using the `Sequential` API.\n"
      ]
    },
    {
      "cell_type": "code",
      "metadata": {
        "id": "W-o_XK4oQ4eu"
      },
      "source": [
        "### Define the Cartpole agent ###\n",
        "\n",
        "# Defines a feed-forward neural network\n",
        "def create_cartpole_model():\n",
        "  model = tf.keras.models.Sequential([\n",
        "      # First Dense layer\n",
        "      tf.keras.layers.Dense(units=32, activation='relu'),\n",
        "\n",
        "      # TODO: Define the last Dense layer, which will provide the network's output.\n",
        "      # Think about the space the agent needs to act in!\n",
        "      tf.keras.layers.Dense(units=n_actions, activation=None)\n",
        "  ])\n",
        "  return model\n",
        "\n",
        "cartpole_model = create_cartpole_model()"
      ],
      "execution_count": 9,
      "outputs": []
    },
    {
      "cell_type": "markdown",
      "metadata": {
        "id": "d5D5NSIYS2IW"
      },
      "source": [
        "Now that we have defined the core network architecture, we will define an *action function* that executes a forward pass through the network, given a set of observations, and samples from the output. This sampling from the output probabilities will be used to select the next action for the agent. \n",
        "\n",
        "**Critically, this action function is totally general -- we will use this function for both Cartpole and Pong, and it is applicable to other RL tasks, as well!**"
      ]
    },
    {
      "cell_type": "code",
      "metadata": {
        "id": "E_vVZRr8Q4R_"
      },
      "source": [
        "### Define the agent's action function ###\n",
        "\n",
        "# Function that takes observations as input, executes a forward pass through model, \n",
        "#   and outputs a sampled action.\n",
        "# Arguments:\n",
        "#   model: the network that defines our agent\n",
        "#   observation: observation which is fed as input to the model\n",
        "# Returns:\n",
        "#   action: choice of agent action\n",
        "def choose_action(model, observation):\n",
        "\n",
        "  # print('observation', observation, observation.shape)\n",
        "  # add batch dimension to the observation\n",
        "  observation = np.expand_dims(observation, axis=0)\n",
        "\n",
        "  '''TODO: feed the observations through the model to predict the log probabilities of each possible action.'''\n",
        "  logits = model.predict(observation)\n",
        "  \n",
        "  # pass the log probabilities through a softmax to compute true probabilities\n",
        "  prob_weights = tf.nn.softmax(logits).numpy()\n",
        "  \n",
        "  '''TODO: randomly sample from the prob_weights to pick an action.\n",
        "  Hint: carefully consider the dimensionality of the input probabilities (vector) and the output action (scalar)'''\n",
        "  # print(np.random.choice(n_actions, size=1, p=prob_weights.flatten()))\n",
        "  action = np.random.choice(n_actions, size=1, p=prob_weights.flatten())[0]\n",
        "\n",
        "  return action"
      ],
      "execution_count": 25,
      "outputs": []
    },
    {
      "cell_type": "markdown",
      "metadata": {
        "id": "_tR9uAWcTnkr"
      },
      "source": [
        "## 3.2 Define the agent's memory\n",
        "\n",
        "Now that we have instantiated the environment and defined the agent network architecture and action function, we are ready to move on to the next step in our RL workflow:\n",
        "1. **Initialize our environment and our agent**: here we will describe the different observations and actions the agent can make in the environment.\n",
        "2. **Define our agent's memory**: this will enable the agent to remember its past actions, observations, and rewards.\n",
        "3. **Define the learning algorithm**: this will be used to reinforce the agent's good behaviors and discourage bad behaviors.\n",
        "\n",
        "In reinforcement learning, training occurs alongside the agent's acting in the environment; an *episode* refers to a sequence of actions that ends in some terminal state, such as the pole falling down or the cart crashing. The agent will need to remember all of its observations and actions, such that once an episode ends, it can learn to \"reinforce\" the good actions and punish the undesirable actions via training. Our first step is to define a simple memory buffer that contains the agent's observations, actions, and received rewards from a given episode. \n",
        "\n",
        "**Once again, note the modularity of this memory buffer -- it can and will be applied to other RL tasks as well!**"
      ]
    },
    {
      "cell_type": "code",
      "metadata": {
        "id": "8MM6JwXVQ4JG"
      },
      "source": [
        "### Agent Memory ###\n",
        "\n",
        "class Memory:\n",
        "  def __init__(self): \n",
        "      self.clear()\n",
        "\n",
        "  # Resets/restarts the memory buffer\n",
        "  def clear(self): \n",
        "      self.observations = []\n",
        "      self.actions = []\n",
        "      self.rewards = []\n",
        "\n",
        "  # Add observations, actions, rewards to memory\n",
        "  def add_to_memory(self, new_observation, new_action, new_reward): \n",
        "      self.observations.append(new_observation)\n",
        "      '''TODO: update the list of actions with new action'''\n",
        "      self.actions.append(new_action)\n",
        "      '''TODO: update the list of rewards with new reward'''\n",
        "      self.rewards.append(new_reward)\n",
        "        \n",
        "memory = Memory()"
      ],
      "execution_count": 12,
      "outputs": []
    },
    {
      "cell_type": "markdown",
      "metadata": {
        "id": "D4YhtPaUVj5m"
      },
      "source": [
        "## 3.3 Reward function\n",
        "\n",
        "We're almost ready to begin the learning algorithm for our agent! The next step is to compute the rewards of our agent as it acts in the environment. Since we (and the agent) is uncertain about if and when the game or task will end (i.e., when the pole will fall), it is useful to emphasize getting rewards **now** rather than later in the future -- this is the idea of discounting. This is a similar concept to discounting money in the case of interest. ecall from lecture, we use reward discount to give more preference at getting rewards now rather than later in the future. The idea of discounting rewards is similar to discounting money in the case of interest.\n",
        "\n",
        "To compute the expected cumulative reward, known as the **return**, at a given timestep in a learning episode, we sum the discounted rewards expected at that time step $t$, within a learning episode, and projecting into the future. We define the return (cumulative reward) at a time step $t$, $R_{t}$ as:\n",
        "\n",
        ">$R_{t}=\\sum_{k=0}^\\infty\\gamma^kr_{t+k}$\n",
        "\n",
        "where  $0 < \\gamma < 1$ is the discount factor and $r_{t}$ is the reward at time step $t$, and the index $k$ increments projection into the future within a single learning episode. Intuitively, you can think of this function as depreciating any rewards received at later time steps, which will force the agent prioritize getting rewards now. Since we can't extend episodes to infinity, in practice the computation will be limited to the number of timesteps in an episode -- after that the reward is assumed to be zero.\n",
        "\n",
        "Take note of the form of this sum -- we'll have to be clever about how we implement this function. Specifically, we'll need to initialize an array of zeros, with length of the number of time steps, and fill it with the real discounted reward values as we loop through the rewards from the episode, which will have been saved in the agents memory. What we ultimately care about is which actions are better relative to other actions taken in that episode -- so, we'll normalize our computed rewards, using the mean and standard deviation of the rewards across the learning episode.\n"
      ]
    },
    {
      "cell_type": "code",
      "metadata": {
        "id": "5_Q2OFYtQ32X"
      },
      "source": [
        "### Reward function ###\n",
        "\n",
        "# Helper function that normalizes an np.array x\n",
        "def normalize(x):\n",
        "  x -= np.mean(x)\n",
        "  x /= np.std(x)\n",
        "  return x.astype(np.float32)\n",
        "\n",
        "# Compute normalized, discounted, cumulative rewards (i.e., return)\n",
        "# Arguments:\n",
        "#   rewards: reward at timesteps in episode\n",
        "#   gamma: discounting factor\n",
        "# Returns:\n",
        "#   normalized discounted reward\n",
        "def discount_rewards(rewards, gamma=0.95): \n",
        "  discounted_rewards = np.zeros_like(rewards)\n",
        "  R = 0\n",
        "  for t in reversed(range(0, len(rewards))):\n",
        "      # update the total discounted reward\n",
        "      R = R * gamma + rewards[t]\n",
        "      discounted_rewards[t] = R\n",
        "      \n",
        "  return normalize(discounted_rewards)"
      ],
      "execution_count": 15,
      "outputs": []
    },
    {
      "cell_type": "markdown",
      "metadata": {
        "id": "QzbY-mjGYcmt"
      },
      "source": [
        "## 3.4 Learning algorithm\n",
        "\n",
        "Now we can start to define the learing algorithm which will be used to reinforce good behaviors of the agent and discourage bad behaviours. In this lab, we will focus on *policy gradient* methods which aim to **maximize** the likelihood of actions that result in large rewards. Equivalently, this means that we want to **minimize** the negative likelihood of these same actions. We achieve this by simply **scaling** the probabilities by their associated rewards -- effectively amplifying the likelihood of actions that result in large rewards.\n",
        "\n",
        "Since the log function is monotonically increasing, this means that minimizing **negative likelihood** is equivalent to minimizing **negative log-likelihood**.  Recall that we can easily compute the negative log-likelihood of a discrete action by evaluting its [softmax cross entropy](https://www.tensorflow.org/api_docs/python/tf/nn/sparse_softmax_cross_entropy_with_logits). Like in supervised learning, we can use stochastic gradient descent methods to achieve the desired minimization. \n",
        "\n",
        "Let's begin by defining the loss function."
      ]
    },
    {
      "cell_type": "code",
      "metadata": {
        "id": "fsgZ3IDCY_Zn"
      },
      "source": [
        "### Loss function ###\n",
        "\n",
        "# Arguments:\n",
        "#   logits: network's predictions for actions to take\n",
        "#   actions: the actions the agent took in an episode\n",
        "#   rewards: the rewards the agent received in an episode\n",
        "# Returns:\n",
        "#   loss\n",
        "def compute_loss(logits, actions, rewards): \n",
        "  '''TODO: complete the function call to compute the negative log probabilities'''\n",
        "  # print('logits', logits, 'actions', actions)\n",
        "  neg_logprob = tf.nn.sparse_softmax_cross_entropy_with_logits(logits=logits, labels=actions)\n",
        "  \n",
        "  '''TODO: scale the negative log probability by the rewards'''\n",
        "  loss = tf.reduce_mean(neg_logprob * rewards)\n",
        "  return loss"
      ],
      "execution_count": 26,
      "outputs": []
    },
    {
      "cell_type": "markdown",
      "metadata": {
        "id": "Rr5vQ9fqbPpp"
      },
      "source": [
        "Now let's use the loss function to define a training step of our learning algorithm:"
      ]
    },
    {
      "cell_type": "code",
      "metadata": {
        "id": "_50ada7nbZ7L"
      },
      "source": [
        "### Training step (forward and backpropagation) ###\n",
        "\n",
        "def train_step(model, optimizer, observations, actions, discounted_rewards):\n",
        "  with tf.GradientTape() as tape:\n",
        "      # Forward propagate through the agent network\n",
        "      logits = model(observations)\n",
        "\n",
        "      '''TODO: call the compute_loss function to compute the loss'''\n",
        "      loss = compute_loss(logits, actions, discounted_rewards)\n",
        "\n",
        "  '''TODO: run backpropagation to minimize the loss using the tape.gradient method.\n",
        "      Use `model.trainable_variables`'''\n",
        "  grads = tape.gradient(loss, model.trainable_variables)\n",
        "  optimizer.apply_gradients(zip(grads, model.trainable_variables))\n"
      ],
      "execution_count": 23,
      "outputs": []
    },
    {
      "cell_type": "markdown",
      "metadata": {
        "id": "XsjKXh6BcgjR"
      },
      "source": [
        "## 3.5 Run cartpole!\n",
        "\n",
        "Having had no prior knowledge of the environment, the agent will begin to learn how to balance the pole on the cart based only on the feedback received from the environment! Having defined how our agent can move, how it takes in new observations, and how it updates its state, we'll see how it gradually learns a policy of actions to optimize balancing the pole as long as possible. To do this, we'll track how the rewards evolve as a function of training -- how should the rewards change as training progresses?"
      ]
    },
    {
      "cell_type": "code",
      "metadata": {
        "id": "XmOzc2rrcn8Q",
        "colab": {
          "base_uri": "https://localhost:8080/",
          "height": 541
        },
        "outputId": "9519a0a6-be79-4cb3-b230-3c9acaad3d51"
      },
      "source": [
        "### Cartpole training! ###\n",
        "\n",
        "# Learning rate and optimizer\n",
        "learning_rate = 1e-3\n",
        "optimizer = tf.keras.optimizers.Adam(learning_rate)\n",
        "\n",
        "# instantiate cartpole agent\n",
        "cartpole_model = create_cartpole_model()\n",
        "\n",
        "# to track our progress\n",
        "smoothed_reward = mdl.util.LossHistory(smoothing_factor=0.9)\n",
        "plotter = mdl.util.PeriodicPlotter(sec=2, xlabel='Iterations', ylabel='Rewards')\n",
        "\n",
        "if hasattr(tqdm, '_instances'): tqdm._instances.clear() # clear if it exists\n",
        "for i_episode in range(500):\n",
        "\n",
        "  plotter.plot(smoothed_reward.get())\n",
        "\n",
        "  # Restart the environment\n",
        "  observation = env.reset()\n",
        "  memory.clear()\n",
        "\n",
        "  while True:\n",
        "      # using our observation, choose an action and take it in the environment\n",
        "      action = choose_action(cartpole_model, observation)\n",
        "      next_observation, reward, done, info = env.step(action)\n",
        "      # add to memory\n",
        "      memory.add_to_memory(observation, action, reward)\n",
        "      \n",
        "      # is the episode over? did you crash or do so well that you're done?\n",
        "      if done:\n",
        "          # determine total reward and keep a record of this\n",
        "          total_reward = sum(memory.rewards)\n",
        "          smoothed_reward.append(total_reward)\n",
        "          \n",
        "          # initiate training - remember we don't know anything about how the \n",
        "          #   agent is doing until it has crashed!\n",
        "          train_step(cartpole_model, optimizer, \n",
        "                     observations=np.vstack(memory.observations),\n",
        "                     actions=np.array(memory.actions),\n",
        "                     discounted_rewards = discount_rewards(memory.rewards))\n",
        "          \n",
        "          # reset the memory\n",
        "          memory.clear()\n",
        "          break\n",
        "      # update our observatons\n",
        "      observation = next_observation"
      ],
      "execution_count": 27,
      "outputs": [
        {
          "output_type": "display_data",
          "data": {
            "image/png": "[encoded data removed]",
            "text/plain": [
              "<Figure size 432x288 with 1 Axes>"
            ]
          },
          "metadata": {
            "tags": []
          }
        },
        {
          "output_type": "display_data",
          "data": {
            "image/png": "[encoded data removed]",
            "text/plain": [
              "<Figure size 432x288 with 1 Axes>"
            ]
          },
          "metadata": {
            "tags": [],
            "needs_background": "light"
          }
        }
      ]
    },
    {
      "cell_type": "markdown",
      "metadata": {
        "id": "mkcUtGF1VE-K"
      },
      "source": [
        "To get a sense of how our agent did, we can save a video of the trained model working on balancing the pole. Realize that this is a brand new environment that the agent has not seen before!\n",
        "\n",
        "Let's display the saved video to watch how our agent did!\n"
      ]
    },
    {
      "cell_type": "code",
      "metadata": {
        "id": "PAYBkv6Zbk0J",
        "colab": {
          "base_uri": "https://localhost:8080/",
          "height": 188
        },
        "outputId": "8cb967f1-31e1-46b1-c2ca-6ffb0f8fd3ee"
      },
      "source": [
        "saved_cartpole = mdl.lab3.save_video_of_model(cartpole_model, \"CartPole-v0\")\n",
        "mdl.lab3.play_video(saved_cartpole)"
      ],
      "execution_count": 28,
      "outputs": [
        {
          "output_type": "stream",
          "text": [
            "Successfully saved 200 frames into CartPole-v0.mp4!\n"
          ],
          "name": "stdout"
        },
        {
          "output_type": "execute_result",
          "data": {
            "text/html": [
              "\n",
              "        <video controls>\n",
              "            <source src=\"data:video/mp4;base64,AAAAIGZ0eXBpc29tAAACAGlzb21pc28yYXZjMW1wNDEAAAAIZnJlZQAARB9tZGF0AAACrQYF//+p3EXpvebZSLeWLNgg2SPu73gyNjQgLSBjb3JlIDE1MiByMjg1NCBlOWE1OTAzIC0gSC4yNjQvTVBFRy00IEFWQyBjb2RlYyAtIENvcHlsZWZ0IDIwMDMtMjAxNyAtIGh0dHA6Ly93d3cudmlkZW9sYW4ub3JnL3gyNjQuaHRtbCAtIG9wdGlvbnM6IGNhYmFjPTEgcmVmPTMgZGVibG9jaz0xOjA6MCBhbmFseXNlPTB4MToweDExMSBtZT1oZXggc3VibWU9NyBwc3k9MSBwc3lfcmQ9MS4wMDowLjAwIG1peGVkX3JlZj0xIG1lX3JhbmdlPTE2IGNocm9tYV9tZT0xIHRyZWxsaXM9MSA4eDhkY3Q9MCBjcW09MCBkZWFkem9uZT0yMSwxMSBmYXN0X3Bza2lwPTEgY2hyb21hX3FwX29mZnNldD00IHRocmVhZHM9MyBsb29rYWhlYWRfdGhyZWFkcz0xIHNsaWNlZF90aHJlYWRzPTAgbnI9MCBkZWNpbWF0ZT0xIGludGVybGFjZWQ9MCBibHVyYXlfY29tcGF0PTAgY29uc3RyYWluZWRfaW50cmE9MCBiZnJhbWVzPTMgYl9weXJhbWlkPTIgYl9hZGFwdD0xIGJfYmlhcz0wIGRpcmVjdD0xIHdlaWdodGI9MSBvcGVuX2dvcD0wIHdlaWdodHA9MiBrZXlpbnQ9MjUwIGtleWludF9taW49MjUgc2NlbmVjdXQ9NDAgaW50cmFfcmVmcmVzaD0wIHJjX2xvb2thaGVhZD00MCByYz1jcmYgbWJ0cmVlPTEgY3JmPTIzLjAgcWNvbXA9MC42MCBxcG1pbj0wIHFwbWF4PTY5IHFwc3RlcD00IGlwX3JhdGlvPTEuNDAgYXE9MToxLjAwAIAAAAKEZYiEADv//vb8/AptFl7/LZ/+iL/lb+9P2a61uFE7M7QacwPQAAADAAADAAADAAAjQ+qT+e/gphQJpan+7xpsKAAAAwAAAwAApWgAAQZcHCmGj4LeQfpCY0NmiVdj/wjofAAFAuN6798j9WoEgtJeOfxxpG/cGYEdxvWN9dU4Gum/VSW8r67VMMx0nydyI8GflpEyFdW8GdT+0Y+XwoySowY1ZRenyzKf3mEfMk046JUvdgBy5H0XMlKDa4bLWqyThCz0bGSeI0/bypEGAj93ZuHyR/1a3zmeLNFmmt7Odj7+YCd5S4I+Qy60j1RrX5oiooTiOnHsLABrLpsgp3FkMfPG8PysYIoHRJXTDmuq4o+Z3u4ANWFkxIvDSJL9zwS3rXf1b7I1AbtgERvGE80vSVDEbDCDTuQ3+cQpq7bYs/TF2abYSoXPJIVX4hMqdZHd1rXErgr88kPMl9FjgEB1MKTIFDc9tsS8GAYk3OosXTn9iVoMlVP8QaBK1dDnKocWZh+jtBAnJpQSC+y/QNIFdWG8ufQHA0xuMTlEjqVAB39ZYppFMpxE/fdJcoa88pHP5iNUlJaggPf3zSutuszsmwPZJ4g0+QgcuRXqeeGw4wtLJnV34mCp3ZFnmbN9b4YJxyvXcP+B6adVv7+ouItEx2dnadJd2E8EzLazKR0JETy4ex4tYCT6SLAP+TxhjVwx56hKixRRn6WICXU9kUE/sjTzNKnICDVaBqgCI4TuvYMqg+1RPKJdr0ackAADMjRYusAy+ZqZV+y0NcIzfNaag8iC0+eRgFR56lR/VEJIj+/jo+HGKCwBwKBZB3NaVdjAQhLnxNGlJPgAAAMAAAMAAAMAh4EAAADFQZokbEO//qmWAAAIz8jqIfmPeMpQaCKqPnn7FYo8c8/yWHfJP2/2rkJyj1a/VZJkNSv1CuJSUtghLNCTL7cTUsJcy9zvfNHlMR0Q1jhlTrmrACnwMnJ0nP8a2RJKDt0EhTCv8lRpDZn1KC0h79unZQS/rko2vtj3Y6KfyIFCx2XZhypCvoZZYbR6cVEgyVa8BOIRDEsiK8RiAwNUcBSkdWQEpNPQFpsgQ5jGWGwIH7fSCTYcBoaOAq3HM8w/8SJbW+d8MeAAAABVQZ5CeIX/AAADAYiNntTgau1FBnXtN+ZtZtLXWNsUzyrWPEAHMyxc3PfGeFie285Y0NO9g2WkFKKN/ZSFxr85gPdaiPjWciDDMOnfq1JjDipBc/bZgQAAACMBnmF0Qr8AAAMCCuwx22QqBa49EBd+TsBfcdrCR94BgaTwYAAAADoBnmNqQr8AAAMCC9QWnaJcMPD5DwyhUJO/dpudse9dCADaC4HQ80Wb96YQBFL9voxnAn2RO8DX//bNAAAAbUGaaEmoQWiZTAhv//6nhAAAEdInEeW9AAISp9kmKWM8S/g/q2aO/tm8QiOLoxX5R1dvJezhr98XYznvY7XEuI6DGK0NbgoD9CQx+otZhaHrhI1t5pXFooMcX35ObbPoSqnjbKQ/7GY6Zvp2YMcAAABRQZ6GRREsL/8AAArLSxAC26Ys2GWxP4b4s9YK1HCvIiAUbOuhwDustX15RnIPal9ombWg0g9GgM6xkEQQPqxUkPEJFpidcVZbGO0yKMT9BqxRAAAAKQGepXRCvwAADnm++SAFujciYCd8yUL/tmjAGM8LI3kSm40PSDs/5/VhAAAAOAGep2pCvwAADoA891ZHp5FqImU103b+60r0pblFleoANqO13F+wf+yq8gqk0Hl2N9A8ok1YYtYoAAAAikGarEmoQWyZTAhv//6nhAAAEdInESP8qDo/cjmjZTT5oKfSrdnwRSzNH1dlljdJ1RZVzNMG7/f/dPQtesGPNuaJ9wQw7dcDkWOdmArPHCuPw9Ww9lcs5QSKXd+FZNNLYM/vA2t8qlyFEUlFbzxIcDJRQlm4Dx91wNXApfxSV7z//CFycv7dM554iAAAAENBnspFFSwv/wAACsz/tWSHYJXeliXPAVMVkahdQtmy0lHL3ytmXMtdGBuaK4TdMv8+6+LhV2/27uo8mbKoFIgoN1SpAAAAHwGe6XRCvwAABYkz/Wr2NcVpPkFKx3wqHhH/+CaA44AAAAAxAZ7rakK/AAAOekQ4QAtgEbLrH/yczDfk1/hROfp6WiQ1VpshgINqOiycHLJCGd3qVAAAAGRBmu1JqEFsmUwIb//+p4QAAAa+xUaIAS1chKIoKEf38dWflFqFPe3WNdD7FnX7DHrjqa1YSNh8HEBh1coqzKO2CDJNOZvGCSGqdLL148jvd4WhGm/8MNVFUq3UFC8LC7JovcWBAAAAbkGbDknhClJlMCHf/qmWAAADA2WLQ2NgiU3u0/AsT+q1BK2S+h6dfbggJs+dW/cEK6rWiSNX6s0mEpZbsA3xg6OydMDN3jlktrGURWl+ilSrF9m5+l7a0OUFIlN1FwY6dyHda9QEkn8bdnniDm8ZAAAAbEGbMknhDomUwId//qmWAAAJAUrpxAFb+GlcbgdA6NsAMVXjpWX47mg65/2Z3/wHdW90Hy7/MehHd3uUdmAIE2+JUdjEkGz1nDFh/Fr0ZknbXWNv1cFRoSRrghRfU47q42RxeSvTYzDW+eHWKQAAAENBn1BFETwv/wAACsy9NPrJIBgPWlnX8ypSsSkRnU44qZLRHl+XRNkgAPwFOCxRzMSxPO0wtjMrwT+fXa3+OqJDb9mAAAAAIgGfb3RCvwAADoFLMVYUNOjslhCy35vxRF8Kf053VUStJnwAAAAoAZ9xakK/AAAOgDz4ih7uTqqLJrsNJdo1T9BnQ+PMAp4mX4D2HJ3JMQAAAIVBm3ZJqEFomUwId//+qZYAAAlBXD4yJ0pGhl7PApXILqu4WvgyINT5eo2PPHJ04zABbxywTIiSuKTAz8/pMFLx0/ev3zD3Up8+4IUz3HhrB1niUyXaqIHHziI9rwIJlYwsy3W+l5P/r6uh5kOxfY0q0FProyS21xevF/+/tzM+hllvgbnfAAAAQUGflEURLC//AAALGugALD6R0Y6pzH5W5h9SLxb0vkJROOKX1TLt4TZJztXKMwnsUGEtS+SEAn8cxxZS6g9S+p+TAAAAawGfs3RCvwAADtwbUT6chAAnWeyCVYEs5eKs2aNOYYC40B+rp5HKCFNtn2GS4oWQYfdzNQfhu4KIY3/mojReC+14wKWEMpVpxHHZqnuw4zRcCNo2f/JDukNXVvf5VjVCe4rWZmXU/HvOLmVBAAAAMQGftWpCvwAADtgrdI/77h4jFinIq7/qvDHPGn6hMu0UQeH+TL2blN3+6hl7MyCh6xUAAABfQZu6SahBbJlMCHf//qmWAAAJQu7oO6322cqj5Q/sTuRjmoH8q0pucaNkpcU8yYjgLQAW4bzZMc05qGhf//3pR22gUA10DhgO/xyXAph46+2NH5IMXrc2qA616/WBI2EAAAAuQZ/YRRUsL/8AAAsSmIn6scJ5zC9bEvCniuQVUUT0J9fiPIHrB7VFszsrMQvmzQAAAFwBn/d0Qr8AAA7cHClyvT46BD4xAHEyUNMX23N//5upMxdlNeMZ0qhNyeClJMWzGdvXOostf2g7qSo1w5WKRZcl1NqCeirZMGhk1Yi7YTRsxMuEIiRxtHLIv+JgQAAAAEgBn/lqQr8AAA7bMu94ABdNfrv81irIAf2BiE5geaK4G1OyXicFkoCU6M6T6ZoJvIltFC/T45vzOAecEhWQjfqd/skxon+DJFkAAABxQZv+SahBbJlMCHf//qmWAAAJQUqZjP9QBfkIocBCb/Q34//9LOXl9GtJpLQuj2t8551wi7E+Jc2mfOWcOygDdoyXLpXca37FbgArnrff3J2hy2P0tQi7BpMNwlH1mIMPKGzjm3jNvxOWY+wNBPFxbMAAAABAQZ4cRRUsL/8AAAsSmIn6sj6rUq/wCaBZZ3JshrY/jGysEFS6gAp8wDJQoscP0m91M3LKi9o4EDfNjnjS4Du6iwAAAEYBnjt0Qr8AAA7cSlUhy6tCutwJ5QxAC1Sd1oo0f83P5ST5ONGqmhZiayHyHHpXznSJqcVon+zW7MuY1KlruP6RSKRJztItAAAATAGePWpCvwAADtsz4pNcb5Na1HfUxkVAC3juQVYFAAfvH/+5CResT5hjTb7WflGiQYYKFdUbHnOKnxbnshOFPBlGmza/eKTzXPUoIiwAAABMQZohSahBbJlMCHf//qmWAAAJQVw/jwQ6qlJV1+vqwbx5joDi6jbDLmr+Bv5SgZ6QeQaOdOUhN0icaWELaPKsucDsHL2i+WuGRwo1sAAAADZBnl9FFSwr/wAADtsz4u/YE9Nj8R8AAnWRb1NMPz0lcrIEXMOiQpp1tJPlUHvdt6jcTDDRfMEAAAA7AZ5gakK/AAAO2Ct0N+gA/c9EdyIn9cr948yDvs4Fi/OX/6BiB0ECDpVT7idpL1t3uSgUxgPGN6/GcEAAAAB/QZplSahBbJlMCHf//qmWAAAJRPo5qgE1yVr6l9aiE7sOhlRPgx0Nx9vJ5L9UBwL8D1Qef1gx93ZxLMb55g7PmPMQiMZOhMfqC7DQgHodgZa89KLisTDJ2tLSH3Z+1AQabqBOKswM3Eov+mRiDtO+RyX9rzRzqhNk5RUyZVaJ+QAAAENBnoNFFSwv/wAACxKYifqsQDzrmXuoIReKgAEI1eBQas0//zVUT34iE8LQ2kZqRF3e++ak6Ku6Ky/+vECUt4mHYB7gAAAAQAGeonRCvwAADtuUUk1pzmNBoATSQyPBPvfB0wZHFRfMeHzwxkmcnmT+IpWdAWZjQ/Ujy895H3GLuXtDMMMFrpsAAAA/AZ6kakK/AAAO3VKL12DzBZFwqAEsjFrsb8KJJAAm1aAXO8i7cnGdgzchuRUliiF5WgxE3C5lmSpY11Y/zbTBAAAAaEGaqUmoQWyZTAh3//6plgAACULwBUiBB8/pIbMxeQORGpFwLKVoDqwPLCOSQ/GDB90DWuMcLicOWUwRFT/CWDFu+SdGjhgfipYRaNJOEkVF7M1DzoZmizU39WTz1Tb0ABxc42BaPXFBAAAAN0Gex0UVLC//AAALEpiPe/5jJABDWIGVVtH+tXl2NDWKVywznL2T89UQ3oJjEzmaQNVU8DNvG1MAAAAkAZ7mdEK/AAAO25ROVXLIDa/p6zZCLsSbfJyAdAb187yU5VFgAAAANgGe6GpCvwAADt1Sk3D/meFV79IBumR35oATt3U36FzY/dcnj1SNj2beiOWfH686aPONFvgkWAAAAGFBmuxJqEFsmUwId//+qZYAAAlCfNlXImXXUAEqt2tmQ8VFmI8cF/2aO4DMaqR6v5Hp9uP9IXtSul6NQr/uBxj1SmFNz3eteLi74eCVYxiaPbdG99PYrO17n5cOFJ0G1g9BAAAAKUGfCkUVLCv/AAAO3EbnQ8mSch2IEuOSs1fkwkA9Zjf8UVs61uc2BtSAAAAANgGfK2pCvwAADtd00OcNqBESe2EZGxXYUEBIAQfWyIp6PKwJJLP59zRzzkSqWVjJaJiWSZoPcAAAAGhBmzBJqEFsmUwId//+qZYAAAlCfu1QYgFFK6X1881jJ5HYpb4kjqR9H9A5rYyN0ivrFQzzLKaG86+/99n9r3jAIhIv+QC7e+QHHXWFYfJ7kdI7lxPdSr15W4+OkHtMG+laHKsoOXipaQAAADlBn05FFSwv/wAACxS9OK/wFOxdVZ0H2pgyUoANoJpDZoQ3Tq1jp/Lv3jxp2zI9b3VpKjsmq1AV/pkAAAAjAZ9tdEK/AAAO2T9byajgWgiZglydIUnI60AZal3uuTdJf6cAAAAnAZ9vakK/AAAO13TQ5w+dER5MYDWmKvrZ6EhF4+m0+rHXuPKRGTQ2AAAAPUGbckmoQWyZTBRMO//+qZYAAAlBXFrsHHeMXXS+vnmsZPI7FLgMQu3m1+KRgKQp+aKTAx5ntYXKxbYvy+gAAAA6AZ+RakK/AAAO2D+W/xsYAP3VEwWiwCskH1Tisz5/Ku+0QJEz/yUwuBbnzw18hY4+SlRHSQvVVM/KBQAAAHNBm5ZJ4QpSZTAh3/6plgAACYE2QBBbasuPpe52kalwz05ycJzujrfb5zwvgADRtTauBl8OOKTSvM6qI/SNvtnrdlBOBvzAMZdRCKJNpvDZMLlGNvD+g1ZgL491439PjoF/bKwtkjA11WW9/dnEwrQ8eR+wAAAAJkGftEU0TC//AAALWnZEGt1kJ1l5GIvo/d5uPS7QtvIQfVzlRZNAAAAAOAGf03RCvwAADy8JbMvAALnd6evHbrvPQzzXfE1R4sJB75YwVt6euFE7dUSlXgzP7binvxws0lnxAAAAOQGf1WpCvwAADy9z015YmUmxtE4PdGyV/c8slYzhEfwQvmcPn5gBCM7tP3wrVW/MmXA2qTZ3nhIgQAAAAD5Bm9pJqEFomUwId//+qZYAAAmBSqAngkvJUY3ftoUuGuoNFYG+pRgJSfb2cqFbSGHnPHWu2Vbp1Z11q6hZgQAAACNBn/hFESwv/wAAC1qYifqsPv5LyMRfR+47S3X2Io4bjKRDpwAAAEYBnhd0Qr8AAA81mSyUSIAbmcGPq2YbFF6MFXazjb9pv/j7Ff+cDISQ14z6o0SyDWnQiY8X1/dnHBLYsbta5wNfHzFXBPVmAAAARQGeGWpCvwAADzP5A20SIAbmegqX5iP/zP1XCKvSeKxbgfMxU66cr1YFHf42YcrOXHkC2BnZNp1OFYZkdvURpQiHi4FWYQAAAHVBmh5JqEFsmUwId//+qZYAAAmBNlPIBCPhpXB4IoQvEGf2H94aLt6Ek560eDzeBwyn4202N9Hp1wzYkBNAibRFbwGOhuRPXAsFFnCgD8Uu3HNWxfS+8ujGbAZYIfNx0SmYZU9KNFb1TssJXJWNuNGDSVuiHHAAAAAkQZ48RRUsL/8AAAtcvSKQlMhzpCrkOuYJh2m5jB/UVIzgI605AAAAPAGeW3RCvwAADzFAGUgAA43lTwNbmnOtMKngNQ7jQwvfhg1T8tEP9nrjbiKPyEwtv9kLuiricgkJv+/z4QAAADkBnl1qQr8AAA8vespAABdR0NX+Xh52OFTFWBxJE7NYhTUJg0GMiFRAp3U1TByPaDDfm71yc3I46Z8AAAB3QZpCSahBbJlMCG///qeEAAAS2Ubs5sgC/IDOUO87PThA+ta2uxWkOH1tIv+9GM6HrauhDIyZf/fTeZOAVg/pTHaTkn8mMDX84pYQfXwtJqQMX5d9sRzuLSYfnMrvyv/YiQkBHcKyQXi1EzbwqGODwFbV5R6egMAAAAAiQZ5gRRUsL/8AAAtamIn6rD7+S8jEX0fuO0fHYSDl+wo7TwAAADABnp90Qr8AAA8uonaEOscH+CExtM7nMF4gBNXdYm+TeRW7TV8xdZH8+m3p5RC+bTgAAAAxAZ6BakK/AAAPMzPjOqQACdvISOXpJH/NZD9zxwJxRzSoMZaKgx7fXk2IMpgOoEj7rQAAAF5BmoRJqEFsmUwUTDv//qmWAAAJgVxa7Bx3jF10vqm07eoAJccZrTqAdhwBG3n9fuyF6nZStUx5PcMRSQ2vmFFQnKR87QJnQTyN518qZYJR+7hGYrcoEHr+0niVRxDgAAAAIwGeo2pCvwAADzA81vRO4x+Thgo40i417uX1/NVv34E8ZDHbAAAAVUGapknhClJlMFLDv/6plgAACYFKreQPOoiD0jHompbGTyOxS4EFGEBQusW/nbxaZJnTJonDplDwPLtTOCp02AnNwS1KgUW+VinXFd2oU7TxVHfwkEEAAABCAZ7FakK/AAAPL3TEk5a5hz4FtuhifZbwtv/gSE7MIR8WWngBB6BUtv/uaRvtInjflIqmQe3g9nR0f+AM5vRkb23BAAAAc0GayknhDomUwId//qmWAAAJgUqt5A86iZ/U+rvI0sejaOxS48ROAY6YkuAIfAC+B3lt4ScmrlcJ/5XzpmF5UfbaqCNW6O3ZVCF37+vufbz9ux72SpUBaXD3pDsDk2g9fXJjAf6I8KCCq3F4DSk+iBG7/PMAAAAqQZ7oRRU8L/8AAAtamLzQa2SjsG0N10aYNeFxFi73tj2hGcpGjPfa31oTAAAAKwGfB3RCvwAADzRetdfoT1liS+ACcl4Z0MLt+Fn1gvdi4ZgRH8MaOx006u4AAAArAZ8JakK/AAAPM2XgAF1HKruJi95PieV0PukVlqNMXu5FnX3/o53OBplFgQAAAG9Bmw5JqEFomUwId//+qZYAAAnBSp96z6kz2V3K6ACny7VtxlV/QykF3mOxmmeVUct+9dOhLK8jZreGoyj9nKGu0XH/gRlOtw446gergFrmZuj3u1Wv9nUBIwQQUXR1GLaVErTRfdxI4NlYUmQZDBQAAABGQZ8sRREsL/8AAAuk+ruijZ9oNU0sFj6SRUO+gBaBvNiCsLDWIqHEvp1zCTDiK3y7TEurUC8qLckVtX1PziiUD8Vh9l+xrwAAACwBn0t0Qr8AAA8vElqUJSEhVtW9jKNAlbhWDs5FSVS+ABEL35ACf+VQXoI9wQAAACUBn01qQr8AAA+IL1/dcGpbzGUAUiESM57Q9R0wEKPBpVYojZRZAAAAXUGbUkmoQWyZTAh3//6plgAACcJ+6gyaMcywPqw06/Nvnnpg+gq9B06TVQl3wAC7BnZ6uD/nc1kVlqgItTqLUWzgosdPY0CpPTGWUb+QJeHVhCBdtyAunqOK4555gQAAAENBn3BFFSwv/wAAC6KYifqsQlmz1ASVcN7LiIiKvrEcVjG7pdh9ACFPUoSCsoDw+raRl7onrBeMsSm6T/uvmhtyGDZUAAAANgGfj3RCvwAAD4aiXE1eaa2iZko/dSIAW8aUuuopIfuKwo1NH+CyBYhiHiFFwhJimEA/BP0e4AAAADsBn5FqQr8AAA+LNWs0W7x3vhGvgq6UAJUagpdhtb/aE3qNT80BfstIp/YdGUVQnbSsvf2tEtIg0sNlQQAAAHhBm5ZJqEFsmUwId//+qZYAAAnC8AUCczQOnS/SFS9ZpXm3zzF2PNsAGcIJ+ulZzf/Iqzl4SvBA0Oz40/rEPPVx1STfAp7+ksgwRpN5pdV8LGbe2w6i1b3JtVS+32LRwk8I90+bNOGBv+6gP2nQP1R7092vxB4y05gAAAAuQZ+0RRUsL/8AAAukvRtergJSaycWSuIxSW1a1hLhhcoAEYoTopo9nlNXjqz3CAAAAEMBn9N0Qr8AAA+MT0WqZ2IxzL9QAfuqJdbI/X/iM7/RKXhTGenvEYjzC7DqLRE9+fE5E1AFP+6Zqm4e2IhkNYwlAke5AAAAQwGf1WpCvwAAD4d0j4/0EkLcoxQAlkYufFALpMEdMNid929Tx84gLbQcD4mR4TYEWvPRIVAP0Kug/89KAkgyvWqJk58AAABjQZvaSahBbJlMCHf//qmWAAAJwUqgJ4JLs7ps6swAEyyt+gBXUZWRQy0S23Zl/r6hX9S1GzFhgBJpsf2QVpv9vIx6IvJAW5tIjI4zD/IrEW+sUba51DVkmLTTcV9NWt6QthaNAAAAQUGf+EUVLC//AAALopiJ+qxCWbPUBKgoVo0b2HfBg5xHKQ0lPzwAiD1KWy8V3/zKQiIoQj9R2q0idN+EpqfxEvGvAAAAQwGeF3RCvwAAD4xT+iL0AH7SLToHqv5Kjohs60LOwAkA02ZYntGOQ2U+k6klZfH+shHjmnOqe2ksSEJRaoHGOXRMdwgAAABWAZ4ZakK/AAAPizPhf4j5MLVHEALcKEjzj/QH//o/bpAI2UDR9wkSEE+1LT3B3jQ7wTVthJcGOk/VvZPWqLsmBDrdapJxtab6+T+M3REFPIfPf3EZPZ8AAABxQZoeSahBbJlMCHf//qmWAAAJwUqtQEDZ/c7YbsXkv0iYZFiA3x8LCm24cbajhhulT1XwoKgm8lpW4xDbeEnJq1tX/9efvtNw0aPjdXr5lawRNnuFq8zKn2MzSUrJ4NJShfnU8eWSj4KEBMJuo7pzn0AAAABJQZ48RRUsL/8AAAuimIn6rEJZs9QEqTeIbCCKQABtR2Y79zj5zQmnIT7CfwakMIfrrTDEivdIvpXYG9Sn3SBuDolPp7qB2rLjlQAAAEoBnlt0Qr8AAA80YRaHIABO3dYm+TfuSdpq+YutIMZxEVuWOB4eFy0/lz/hR6ckDp/aBW9pqZTYF1QRbOUKhOhYH6iaMUL46THRywAAAEYBnl1qQr8AAA+LM+ML9mACcciR3nO+//1zzoWv1akHT0DVdHwC8+If7kYtBKzltAzc30Pa3dPbLTVClk79mPwybD825sqAAAAATEGaQkmoQWyZTAh3//6plgAACcFKx1ADdEGlYV4QK3//gmaSA9gqkT9fO1j0PR1vtBpXANQBfS33zcrwtpWeUChxxveeWKzK7rrCRcAAAAAuQZ5gRRUsL/8AAAukvTW1Vo+5eARUNcWgACCgfs0978Whpml2hZ/LNKpWVyXGLQAAACoBnp90Qr8AAA+JSzFPRzzyEgn1yHe+pqQAmrusXLI1uCyCyX8tGn8Bp2AAAAAXAZ6BakK/AAAPiDzW0x2wHxg2epEwjPkAAACdQZqGSahBbJlMCHf//qmWAAAJxHjkh/vtUAR8harsAnLfsNZN4DVg4HDjDpokSIEXpRQd9ukJIhWlYjpAm1kpM46pnXbjScNQb19esDHjHLz6qdJBPyLVEJ93k3Kbe4QZWEZXqpvvFNx4limcw3RbZAuWNGS+FQ2CjYx++13cZ3H6X2uZZm3xh/Vm6IArN6sok80c+msphPBYvbIAMAAAADZBnqRFFSwv/wAAC5+K5ymjtXbimwuZ4ecBRdC1ALHrR7zbZcEobqYwfeIAWIQjd7f/qOA/dlUAAAAxAZ7DdEK/AAAPhxJajCUV281cQ4Es5NzMQAgUzYMSP/RDITe0Z+fz7yWIBD7rqasFlQAAAC0BnsVqQr8AAA+K0lhzRq8w6WCcQVTTAAJ1IZHTDfOJiE4WaKiy8JyaMwYRuzEAAAB+QZrKSahBbJlMCHf//qmWAAAKBpucwBUCm5EVk+wAWJRrjYtxKifQ9lIUfJHTEJiKjy1ydDVBjS4k1cOrrrsAt/INRUCekDE294CZ6nmIdPcAbiQnTYiUNb/Pn1fvrZ0RM7ffWZmDZouq1GCvKyWevDdHYNCRSbDNoCr+Xu75AAAAV0Ge6EUVLC//AAAL8o3TWC0XJWj1UXdWNjm/u+rI2cAAQfrDcnt7/hkafN8Y1BB0V8r0BDZI8xtm9/p2Pb9TnMnozYU06WQ6I+haZXthcEM4oyeeDSWygAAAAEABnwd0Qr8AAA+Gopw1EW8QDWtkjsv5IsmIATSlXtChb5TLVVkkUOZLbiZtUFAdxrJHB8SCx+P1qtNJaa+4o0vcAAAAbwGfCWpCvwAAD+LSLceZmoJ1wAmohXsGQ/9jRjkX9bqBV0hIy2LalgFE3hBWf88tH4VjHWiHSXfXBRg+u1Lha3P/3FS5W0UbvG1/FomTukpqXHsOm0mpYGdCv9zHzR+7sXDYIQI00Va4xYMRIfF7gQAAAHdBmw5JqEFsmUwId//+qZYAAAoIHOrkBCff7rL747AWW2QZKV5Alwazodp4xzcpNjo9LKCkgFUiPhG9VZCrdHTh0Vzq1Q4zqGTgrad/H/KNTZ65D1J+GeJewLyTK1KHjNjclBhUaWPS6T0UPjAL33iX2MP7HivtrAAAADtBnyxFFSwv/wAAC+/fxXmMMGPVSn13/uxBHHXmd2ZlskbpbcXiRBFumx+AAOQ8pXX/mxOhc1GrxSfFgAAAAE0Bn0t0Qr8AAA/kSlUkqMZIPBbsE/UN2kwBFX9S+oZ5/eo2DLtBlbudU2jNa+7wlMyy5+ecr3q+8H3Wf+FIH5l0HxDtalkmkfVOQayacQAAAEkBn01qQr8AAA/jM+M1n3ZVdcbfzNZBTAC6jSl1zomX+TW+01MiEbgwLTHSRJLO19UwOlaqwHbi4VXwgAWcYiqgFR1lA6PhbQbZAAAAf0GbUkmoQWyZTAh3//6plgAACgaakuG3kTH+ryuLmADwike701c1x0+NPZfZ/MpvYVmcABFnFa+V5B19SmouBN1HHleerrO/wAl3JwaJwtGsdfrTbMMr7pxiZG9iXQRI6iz7D6NftyNzZjQps96GVxkb403ai1pY/Bw2HQtPPoEAAAA0QZ9wRRUsL/8AAAvv3+GmlCU9O05bkuwgfh1mYao27iLqQteC85/H9F6wBx4ZXScfmU7tUAAAAFABn490Qr8AAA/kU/oYmOfdd4ERhy0A6BAC3jSl3uMaL9CawFGp02lvT/2hJ/Zfg6rK/IL/0ptj6o3jY92MlUgLBwcvSrr/+ilaMG1Y3cXaoAAAADEBn5FqQr8AAA+T3UALYXeFl3/+e4HNtLpz7PxtYNQ/ttei5JNSmA3Mya9rcSLUCSbRAAAAXEGblkmoQWyZTAh3//6plgAACgaawQAKDdAL7Sb+mampPb/7KVvNBAcvKAGOa7hJE/e7WY0nv7BZ28dB8Q3/UgZXkkcSKS6sfAuJTbKuSFhc1GGnaB9NWxiegaB8AAAAU0GftEUVLC//AAAL8lxDLDXyAwz488lC0XCYABCNXgRC4Yf//GJpSTWDqmGy2yO4Ve4vA+dNQ6IcNaFr5+s9FULjz/RsjAxMyWI3xFXIOdj5QcsuAAAARQGf03RCvwAAD98Iuf1baAE0kMjphv3x14CFVumb7yoyH2iwH098RDtBZWhUjbeI5kfnAJaLap7EZrQ5+lh4w5E8HLoSgwAAAEYBn9VqQr8AAA/i0i3SVEBbnXZMABOsimBs333uaRFX0KD1I80InjGQX58VuMmt1sAxoEPYP79vn1ej7b0VmfgxDP3ZOe2LAAAAZUGb2kmoQWyZTAh3//6plgAACggfXaSqGJ/ESRmLx6j+0VpA52OU3lhNo0/8T3sPnQkAH6uZ3R0ghzRQLoMObuvUtqqMkMXqLyc9lsUT2e1yuHjwQOeNuapSDi5jcHrk4TCN4OdZAAAASkGf+EUVLC//AAAL79/hpdjU/beq41gAF0GBHZDuSCCvU41/VOVrrFy3yTDd8n2F54VzEDBYn/GGXTw2mVhSSe5ihxWVu4yv7suBAAAAOgGeF3RCvwAAD96iXE1xBB2eYGJ9yrRACW3lKEBa//9fJxR5LzHMHuotWaNUDz9hVwrl5JxuBHtpNOAAAAA6AZ4ZakK/AAAP1/LCTR/dUzihssrLvCkL4P9cAH87rH4Flzmpzeto2oow0KtEyzgl+P97TgSP6mcdYQAAAGFBmh5JqEFsmUwId//+qZYAAAoGgQoCqBWIALJVN7ZlcG2yt+nn9jpI9X9XcvFc+B+39Fi30fmdk/RPVnmgaM67zYpAd9BicH8MYzMZmAoHULWnJ+EX0jxux6dYbo6d6KfQAAAALEGePEUVLC//AAAL820q7CLdNOSvimb2250EUs2ry5cseUx1yGkYHZv9DVsXAAAAPQGeW3RCvwAAD96ilb3t1ntNmKRNyUlrWroHYXqABB4WPar279XX/eLswxFTXFbukPzyAHTZV1L1HoocVl0AAAA0AZ5dakK/AAAP33TFrefIJYFvG4ATLqk3TsbdnHkvMcwf5/Pns1EeS69hzoUcQtm1W+ujrAAAAExBmkJJqEFsmUwId//+qZYAAAoGmqNpQ9G0v0Eq7/+RQVzN3mtADyAAkJIp9AD+xtG5EQWcdrOwSGgnlAAAAwE7kb8+IOD0Oi5ttGzAAAAATUGeYEUVLC//AAAL7+AfpkeL6qCUQAAhNV5z4oBsU1PHH1ApcX7JKANw4h0uIVQyIWHMAV3b+dujOsyuJS8feFE7Km+O5tDoC2mHbMWBAAAAOAGen3RCvwAAD+SMEALcK4xUyP745z8fP/2W3nfE2oh+Ln1qoWZNZl2tDgBUQN0wyQmRglzeemOsAAAAPQGegWpCvwAAD+Nl4ABdR2yG2J8nxLK6l09sXvl06aQ/j81Fmz10VJW75ydW5r9C+KB8vSEHduHRGArsg2kAAACAQZqGSahBbJlMCHf//qmWAAAKToD9aQLBKPel7nZ6yYHQCADYUADOOqfETS/cMMwmquePIPlSt3wKd9GinJpcsZOYNquESz7t9OOgzJ+BY1RtieG/ivYXRFh4pJTHeDqyRoRx1ua5kix3JZfx7XYKcqunhUZ6WrnspzuQ1y+MPGAAAAA/QZ6kRRUsL/8AAAw/3+GmUHmgAODih1VHp4//+iRr7MdU4C3bo4ohh/36wfQ+XCoyTxsqRLpphotCge+b1Y0xAAAANgGew3RCvwAAEF8wygkVAxPFL3AATk80ro41NqLYTqV9gYNdt6T9obFCGgiK7SxJA7/MGHRAywAAACYBnsVqQr8AABBdmzcwIbYz2zgMnAWwfbuwN/Yb/1u59BWRnT7vAwAAAFxBmspJqEFsmUwId//+qZYAAApOgQGw28iJzZACE66EYfj+v0mzTrIn7oN4Z8teSSh9c/lvA42Xstame8skLSue+/Jd3Jupj7+w7z8JUivCbpB0kDHtdrfUDNeoIQAAAGVBnuhFFSwv/wAADD/f4b5QAC56YsvN2Y/nk07453iib8ZY74L+ysRDYOiEyyh/TZVAxbEgb3gn6hwilV345pTbGdBr0BIiVCxnCh308u9AVvaUqsB56AlfGuyN94VvGd2aJ/rssAAAAEgBnwd0Qr8AABBeEqYwTk0oPwSGkAC4Sd1oo0f7I55ST5ONOTzV25WjsJbl/ivzjA4AvaNXphSremlGnfrVOvoF0G+5YkqoT3AAAABJAZ8JakK/AAAQXYlWnwLP6mLrNwXjTD6DbyIRbjRusLEZ90oAPxJVT7aEMph9/scZfjAqdA4Mhiv0K6UTHLvAZGZ63Aj7XuV4EQAAAH1Bmw5JqEFsmUwId//+qZYAAApTDcAFza84LKjHtKXajyjCnCegEquaXIoAAtcAUcr1/Q1//aYHF+EuOfywh62RdtArMCKG8/Hz5d0xbFfd1Bljwkof8sa9umpuE6fo71UyIRwWl3lKwfaNmm+7boC+Rku0CVSOvDyw2hBRTAAAAExBnyxFFSwv/wAADEQklkFsOX2ltyoA6vUy3nEaGO55QAhOVIy2hL7rDAdOrG648wor0eswOHTrCJbi8RuRY/+jSoE6rRitSCwPP9JlAAAALAGfS3RCvwAAEF4SpjBOTSg+wjTjpUSIQOGA3XCIIKRIS7qgFrrlfZfSMPjhAAAARwGfTWpCvwAAEFf9gR1z+w+E6hnc/9qAD9tenbU/1398mRBxX/iyRIooDBFls24wiJL70TLo2vNscCJfmdSeJcdGm+I2rxlBAAAAWkGbUkmoQWyZTAh3//6plgAAClAgarkAOJ7Afr/2ECr/4islpPW49TmMjcKhAPkr8AivY0uuO4lSjL+KNSxesgKbpVXipuXDFMpc7MIt4zvVGozGwGQpjIcHzQAAADhBn3BFFSwv/wAADD+45fUMxvTTpWgrga2bfWSlqC2sSc+YGCuc0cuoMHLgPsKQmTXYQTooWpGJ7gAAAEQBn490Qr8AABBeEqYwTk0oPLw6u3jjMQuQo5Ol4tmm2jMeE92NlaqAC6NOQybMG/9knnsgbPZcREC36QfwCIbScpvXgQAAAEoBn5FqQr8AABBX/dm8cr36OOSAInaJ1wACdu6m/QubvxaaubgcBVWT5lodFik0ZeJkKngtc4yZlrkEUIssjDP3kLKsDYdm20fAgQAAALBBm5ZJqEFsmUwId//+qZYAAApSgAko6AHHudloWM7JGarrZ/rJfyBNLV89dvYsFtp6TOVOEKsq6u22w6HzGCrACfLtf8DlTnmk9WX1ezn6gQkrWDWxriJvEcD++5SbMD+u4cflYiayNS20qaqOi8j/9VOsz/QcUe7UlenCS30r+gziD2D5bx4p4GUAhvUb0H7aqVW8L41C2K3PTLp2/UV7rKLAAzOkq8fiHyR+/oecSAAAAFJBn7RFFSwv/wAADEJM5xAC3DSQUBNXP8wjxR6z8l5CwVJjcre9V1Rt/YVvtLWX6LliBiOpprlRfEwAhjdiArKHRLm3P2dwPTDlbaK58aMIlWPAAAAASAGf03RCvwAAEF4S6bAZoQKQcma3WcLO/hxbvcfXbJQAfezI4h2fSENxo5/HhgbU58XyqWwuxdNHlrQe/XLQ7oZb9lN+GXbAgQAAAEkBn9VqQr8AABBb3ggBKuWM4Fjn1pH2+fzJHSHCs7qo5oRslKjvlSr/7JphmNX+8tWFtPLkcCgcv6W6BULHVmp3gJBnl2+9X2wIAAAAg0Gb2kmoQWyZTAh3//6plgAACpaA/0reXqac04QXqUr7vt7dSeLZMw6rDHCAEhZe/4Z6H/BUE0j92oIH5C7TlSuDuRa+jIcNLVk9yE7l4Udg6oiX6pwoiwG7erVSQhX2sIflPHEesV4t60TO+vvUUqKpMvs0XZr5iH5PqMKc0QOKax/hAAAAPkGf+EUVLC//AAAMj9/E3/rpk2ayfpbJ+WkBUFTeIEHYDdZdMedCVEAw6PdWOyRz++GPjOS3qxvEnWOs6rWBAAAAUQGeF3RCvwAAEN8fD4lYABciwG2T/NOMA8JZ2fl4NEYDAjwvDka7D21fmEz128tn+k3B+6WNdf3S9L8Kjsskx5JZm1LZQbDUkVzacs4Cfmp4EAAAAD8BnhlqQr8AABBNvk6u6/h+wYq0Dk7IC2b1ZI5SrP6/mw7/p21IiPnLINywsujYpueIAQLQlIQ9mD/9atZw2GUAAABmQZoeSahBbJlMCHf//qmWAAAKmCBoqz03WsIhBmMCdEul97zWj0dbDfvCCfC4v38g3XakyJNyKOLGWbwA4/9MVeGi/rN6kBP5UDw2RyA9rcn9wnspylGvPwAaCXT1r3a8s956V5XgAAAANkGePEUVLC//AAAMj7jUvMYYKOqmVU/dQ/L9wsMj8+1uJWDLd4m3qfpi5y2D+OKo8b1fVgddwQAAADcBnlt0Qr8AABDWsKQT1JsP9l/FISEVefmjLI1NYDtxwnbKWp1ReDTPgAD/A9X/8oURM7XX0KV3AAAAPQGeXWpCvwAAENf9WGRYSCU0R4F1x/GrPiTvxLRqZPPCZIhSgNHUAF9bS22+wG2rA3P2GVJ7Qvwr3Rzeu4AAAAB7QZpCSahBbJlMCHf//qmWAAAKlow2xAC2EGeTLTJ3F//sIHv/xGIqI56NVfQtpbLrjbISiJJhke/144lSPQFmXs5oHCMOOBHRyDVOis5hz7RUZ8LdBkKVHe25zuo1uyFmKy8DAvG/BFpPPDztN2LfmzM7/dN82F2wHjpAAAAAR0GeYEUVLC//AAAMkky1psnUpUSXhTlKLapqwvGmJXw9bhmGIvBAC01yZCjRxL7fwAc+6Q3MXf9kWQp59FYhiE7hmFmdnNdxAAAARwGen3RCvwAAEN4SpjBOTRI/ZgvUVfLTOdUeBNWRTsHsRf1ZP4ioMAIOasJQAfiSoceB37qmf9JJTT55NoZw++rQXOFw+413AAAAQQGegWpCvwAAENf9ZUfVLb3NDaldGmnTWdL/32Nl12j7GNBqgcJbJwcAAhEyXJHQehH//+Z0Q6X70prECsmGmddxAAAAkkGahkmoQWyZTAh3//6plgAACt8i0ElQxK5ER3Pn7rOGoDtbMYr88eV6nDTH/5tPbenN1yl4amOT/9wwALLGNxcvHDEVdvvWEn0IF5Cb0mDCkcD5SpRjOgLh1sw5OT+x4qKo/204sjyxEHTPVwn9uExTX6F6yXcJbAcC2JntAyDg/4nekbaMtx4dMinfNYd5IFK8AAAAT0GepEUVLC//AAAM4qeaFl7vLld0QTYq1Xzjo0MAcMHlKkLckGGfoqs254SsFVzf3zACGzAMlCjBXh7MQPVzcF0R4bBTAEUial4eRF9oq/EAAAAyAZ7DdEK/AAAQ3hLnVxMgG0v+45WqX6Zksa8stu3wRV+y3p+eADsRhoEtv6BeijiSzXcAAAA9AZ7FakK/AAARXY8H3uZSsVoQKf4jXYqhHqJmgECEaV5BLHQAIbrTehrIqTEPHz+D8KCefwUOyfwWZeJ1gQAAAJ5BmslJqEFsmUwId//+qZYAAArgqRlKIAvhI1xcN2Serf+0st3mjNBi5+yID021PZLOYTiaSENGsXiunB5yJ3ejNRfwY7awq9KA65zVnD+3+5JCcJAPfVJ8ddkOsfw/N8AKL9Ig1konsOE1wEV4P3BC8290i6CQ3Bn/v1XtrD0+oHWhKox7FfSfn/mdSoM6FPoBzolN7tc3BVjYZvGJ7QAAAEtBnudFFSwr/wAAEWCNIx6pVsEoCgcq+5LsZx159oC3/Irljd6ab/7QdMr6wX8gLACH567i/YPu/0vSxF/x/DPU0MlrheLN0axsu4AAAABUAZ8IakK/AAARXPdPHAYKVqgpaJzX8s9AtjnBWD9sqtBCWMxDEZuQZsDSsNvYQLBLgUfPNTZIHIOCoANlHNR5kq7qfSNzHu7P5mCd/PET8JlyFA+YAAAAe0GbDUmoQWyZTAh3//6plgAACuAiQ2kqhifxAJBJzMQsIfeMlCMjHmXsbsVkIZnJnKb2pssKX2UTiYZGEPOpiIFApcQGIi8YwwjPzP//S1FuM3+U/79rUXAIKeZi3OUGr6c/mjpmiVigsI+Kni4I3W9sj/drU0N9SwZTgQAAAFlBnytFFSwv/wAADN+LDgYVaVnvGQpYal0jE9DP0ArPWZJxmmIwLaCs0Fp+cUeCvY8YhSXiFR3fQAmlzc12/skRMByajeZt7Ato/leAzOW5sCTQFDG7eXDHgAAAADkBn0p0Qr8AABFWsKQT2CwMRM1Aa3tvTmrcqFg0zn7g5VaH9JXG1zLV8MfOcQaXro/AjhngRZsYY8AAAAA0AZ9MakK/AAARHPllITt8B+DhA5tI/9xhAnQjy6TnL4U+USwWYwGK6MP06/m5JspGeTgUwQAAAH9Bm1FJqEFsmUwId//+qZYAAArejiiAmliIZdqSv6D2uc8SGt02pid/il9a/xW/x/Mr/aGhzqTra1E+drA4Arta2UOgmSCe1z1jf1oAr8bSaXEo0aAdsIgDCU+X7A2R9znuFJ/eBD2lOatZUGSHwfRglzna3bfmsK3zbgVRZimBAAAAS0Gfb0UVLC//AAAM34sl7LkW9rifoAo6PNT5jP7V8GVnYDAkPJLIpxYrOXxSpkmHrFgAEF5nJQSf+1DZOeuoF1bdpyJsbb1FIMZjwQAAAFUBn450Qr8AABEc1gcwAAunvRKN3kRRF0lVuVQCIyeVgosQ30Jt463txuScSChzTErn4+dmWn5piCeYsK6ujnUAQVekEy8cE7CfdlrzqwiMn3B6ckDBAAAAWgGfkGpCvwAAEVf/TIAW0Z6VFho3/IGVXyV2hKTOqSRVy+08SmrViHGlBc/kWVECiJDRXqCDO31nEaV70fVyVri1S/XYmFVwMAIEZXYyyE/eHnEAzG6w7Qk4QAAAAHhBm5VJqEFsmUwId//+qZYAAAsmjiVfFayQliaoTzN3zUs2FQsTvMhVuIVbvzioShyuLApkxApXVACRluuReDKf+fJGoZp5f3PLq0t30xqwogkpRoYImFYCYkJfz4Oj03VoGBki9MFwzPXloTjSb5/dsCbRi295ZJ8AAABHQZ+zRRUsL/8AAA0viw4GFrC74AUnO3uHo+0zHNw9ouebf4b3tmDTKwOSVTgAE7epR4QzFpkkjsnTjNNCVJIZYusIMwTatoAAAABdAZ/SdEK/AAAR1qS2QBW0UJysDD3LJA4SvOC/sGW/Y5zjc+MBy88+jZlGhCqwnIKQ7DjmN70nbVBjjUrTarIOcZw56PXCH5qXW3OS9TFmWHZBne48ygYb4gyEldOEAAAAYAGf1GpCvwAAEdf9Vq8gAHDxLZOiP+Zlpkt0bCBllctglLKX+Oinr0ckJqZakv1//NiJD8oRsOHH0coDPDzXzbNoQVEjEdIDidvUWp9Mh2SRfcgD3UGA22mxwx+KHWVApwAAAK5Bm9lJqEFsmUwIb//+p4QAABYcSNFgARigMAcFSRG//9QxC/9pRTsLT+HrbCFX0k5xkmkPXG2hlQBkpxcn2ZF8FB963GXldTEEGmcKjk6OG0KXsPcrC/m/2qvNhgog3hrWozkwIcwT9ptCXCXUAxoxgkAiVyI0rlTygQnif3x2sisoJO+QdiZFzOLHQJ+XC3MAyTeaa1tEq4BRzcBK4udZUWbCjJTQfXaP7fKNqzAAAABYQZ/3RRUsL/8AAA0vixc6D0TV8Jx/h+p0hESjjPtwmREoquMh34sg6WEzC5CGhgUCY7MiVGt1AALi5rYi7jCb2dgf+jFiyyI829kjB5KmUD6pv8gmoY0ovwAAAEkBnhZ0Qr8AABHWiaM6IBRQ8A09J1NsVQyHY2zea17WzUW5SpAG/KbOqKt5PyjtF58ZCAG792yxKLxXz8PRoy9+nifnBVtpEQdVAAAAZAGeGGpCvwAAEdfmJIAW6NX3dZfaTGZ/MnSTAL2dyx/VbICHmoI9/0lGcJtxQNLe8bWK6iS5Jj5ivBiBdEdHevy9n4jEwe/ikA6WBkCMqnlnnMm/VkJ0bAnDXv1jWNJP8/kQIdUAAACNQZocSahBbJlMCG///qeEAAAWrERvF2WF+UgmiQYuHSiuQA3Q+ajWT7jOb/zV9as/o96fIdNZ54EkOXtFqp0eoyNBKauUVAFr1gEYsZV024cYpCz1xDg+vqIrXhV13hs4ZHLuEpXX6UFUpVQ+Ajgp9Gt0UsIq9PzAnEhaZmgxSZQwKxNAgPOGypjF9h3BAAAAUUGeOkUVLCv/AAASXYjIVvf3Q5TV7BLuW3ONoDnO6vjUrZKAd6ZOSEupzP5+dOpB+3/VeoASRcgiQmct//WR8Dy++cZ+F0nlVF5vVZFE6SehJAAAAFIBnltqQr8AABJXr03V9lCPHODBGZoa+xnxNpW/7ceHxZ4eRZ0gJ3P/FLch/EnxACD1ZWqKp/m2Kvo4lhgybQmr1AvyqnWKzRbXYs7WsCXgk7KBAAAAa0GaXkmoQWyZTBRMN//+p4QAABasOLFWzcQDVCqdlJWXIeiX//PReuL6IHGg+yYZi3DEUCH2nB52EL/4C7oDf35vbyC85okGfqPtcQWz369JnOFP2gMw0r6jbhz+4WO4idtLMezvfFM3WnLBAAAARwGefWpCvwAAElevMGkb0KATSqEYNm3bgTOHB7kxtwPDx/+7/+Y3O8tIbviG/rEx8AG1AYitYZoYO7/rr4n8/mF/r3ctGy7gAAAAWkGaYknhClJlMCG//qeEAAAWrE0hCU0P3kaxh5XPbF4D9jWGNgG83+AxVPRGy0f0kmTF04z8tyAHp5F0uLJPGo/0Ie8FLuPqkDp+kuzbvS2mFDL7GLmvJzZLgAAAADxBnoBFNEwv/wAADYI9vAABNP4knzaJwos/lHUeOn76qvf5clnSTD/Gd4wcFj8wDXKJ7VjMrDH0UGnPoQUAAABIAZ6/dEK/AAASXdRH3Rn0jiB5+ZQ4ijZiMTKIjYDndMQKs7903xtwlQAXz9doD4J+5lel45w15dM57Ic2Bd6/E/uh6NUdMoQQAAAASwGeoWpCvwAAElevVpcr1r2pIpnVhFk0tgmFvVbNCMKp8gdjzoxkS3PcAAdcyAlLsOfFf7QeL3VtX+SKuawQfJCxgE253MR6OMOtgQAAAHdBmqVJqEFomUwIZ//+nhAAAFqri/wOcUABGR9PVIgGv9DQQuBCX+3m1bL8kGXvLUjvulmvFGxNUXHS/pMVVIxeN8Hu40Bof0Rj9M396DbBoAS6YfvUmdQrrhs/hRHZ37Hd9ix4LNfUOEMdgCMcaXtSCZm18H2qoAAAAERBnsNFESwr/wAAEtdwEMLSTaTElSFKVDR2QaEQ4lBOHlH22u0Cfr8OW/WpT0hp2v4ABdKzFJyH2HT9KiyR6jCGqFP1awAAAEEBnuRqQr8AABLXrzBpG9evhTy2v8a0br3nr61E4NqIdlHtjPiUPCNF73i6d6mIagA2ojBbFSeWKKFd2Q7UDbbTLQAAAFBBmudJqEFsmUwUTCv//jhAAAFiT/ie1E79nwr2AV61+vKq4qzYMGQCGMezrSjbBYDmgBShgaYn16aUMLwBBNuZkMXXzraZ2wthy8q4lZ65ZQAAAFkBnwZqQr8AABLST/ZIgBuZs77Rb9CLVpBWFu/S6IYXdbVCNLzI60g5lc86UxomEQvmeRv5zg845G2f86aSR+O4dy/zalZyz0TrKu+jQL1w+2MU0OCVSaGXgQAADENtb292AAAAbG12aGQAAAAAAAAAAAAAAAAAAAPoAAAfQAABAAABAAAAAAAAAAAAAAAAAQAAAAAAAAAAAAAAAAAAAAEAAAAAAAAAAAAAAAAAAEAAAAAAAAAAAAAAAAAAAAAAAAAAAAAAAAAAAAAAAAACAAALbXRyYWsAAABcdGtoZAAAAAMAAAAAAAAAAAAAAAEAAAAAAAAfQAAAAAAAAAAAAAAAAAAAAAAAAQAAAAAAAAAAAAAAAAAAAAEAAAAAAAAAAAAAAAAAAEAAAAACWAAAAZAAAAAAACRlZHRzAAAAHGVsc3QAAAAAAAAAAQAAH0AAAAQAAAEAAAAACuVtZGlhAAAAIG1kaGQAAAAAAAAAAAAAAAAAADIAAAGQAFXEAAAAAAAtaGRscgAAAAAAAAAAdmlkZQAAAAAAAAAAAAAAAFZpZGVvSGFuZGxlcgAAAAqQbWluZgAAABR2bWhkAAAAAQAAAAAAAAAAAAAAJGRpbmYAAAAcZHJlZgAAAAAAAAABAAAADHVybCAAAAABAAAKUHN0YmwAAACYc3RzZAAAAAAAAAABAAAAiGF2YzEAAAAAAAAAAQAAAAAAAAAAAAAAAAAAAAACWAGQAEgAAABIAAAAAAAAAAEAAAAAAAAAAAAAAAAAAAAAAAAAAAAAAAAAAAAAAAAAAAAY//8AAAAyYXZjQwH0AB7/4QAaZ/QAHpGbKBMGfE8IAAADAAgAAAMBkHixbLABAAVo6+PESAAAABhzdHRzAAAAAAAAAAEAAADIAAACAAAAABRzdHNzAAAAAAAAAAEAAAABAAAGIGN0dHMAAAAAAAAAwgAAAAEAAAQAAAAAAQAACgAAAAABAAAEAAAAAAEAAAAAAAAAAQAAAgAAAAABAAAKAAAAAAEAAAQAAAAAAQAAAAAAAAABAAACAAAAAAEAAAoAAAAAAQAABAAAAAABAAAAAAAAAAEAAAIAAAAAAgAABAAAAAABAAAKAAAAAAEAAAQAAAAAAQAAAAAAAAABAAACAAAAAAEAAAoAAAAAAQAABAAAAAABAAAAAAAAAAEAAAIAAAAAAQAACgAAAAABAAAEAAAAAAEAAAAAAAAAAQAAAgAAAAABAAAKAAAAAAEAAAQAAAAAAQAAAAAAAAABAAACAAAAAAEAAAgAAAAAAgAAAgAAAAABAAAKAAAAAAEAAAQAAAAAAQAAAAAAAAABAAACAAAAAAEAAAoAAAAAAQAABAAAAAABAAAAAAAAAAEAAAIAAAAAAQAACAAAAAACAAACAAAAAAEAAAoAAAAAAQAABAAAAAABAAAAAAAAAAEAAAIAAAAAAQAABgAAAAABAAACAAAAAAEAAAoAAAAAAQAABAAAAAABAAAAAAAAAAEAAAIAAAAAAQAACgAAAAABAAAEAAAAAAEAAAAAAAAAAQAAAgAAAAABAAAKAAAAAAEAAAQAAAAAAQAAAAAAAAABAAACAAAAAAEAAAoAAAAAAQAABAAAAAABAAAAAAAAAAEAAAIAAAAAAQAABgAAAAABAAACAAAAAAEAAAYAAAAAAQAAAgAAAAABAAAKAAAAAAEAAAQAAAAAAQAAAAAAAAABAAACAAAAAAEAAAoAAAAAAQAABAAAAAABAAAAAAAAAAEAAAIAAAAAAQAACgAAAAABAAAEAAAAAAEAAAAAAAAAAQAAAgAAAAABAAAKAAAAAAEAAAQAAAAAAQAAAAAAAAABAAACAAAAAAEAAAoAAAAAAQAABAAAAAABAAAAAAAAAAEAAAIAAAAAAQAACgAAAAABAAAEAAAAAAEAAAAAAAAAAQAAAgAAAAABAAAKAAAAAAEAAAQAAAAAAQAAAAAAAAABAAACAAAAAAEAAAoAAAAAAQAABAAAAAABAAAAAAAAAAEAAAIAAAAAAQAACgAAAAABAAAEAAAAAAEAAAAAAAAAAQAAAgAAAAABAAAKAAAAAAEAAAQAAAAAAQAAAAAAAAABAAACAAAAAAEAAAoAAAAAAQAABAAAAAABAAAAAAAAAAEAAAIAAAAAAQAACgAAAAABAAAEAAAAAAEAAAAAAAAAAQAAAgAAAAABAAAKAAAAAAEAAAQAAAAAAQAAAAAAAAABAAACAAAAAAEAAAoAAAAAAQAABAAAAAABAAAAAAAAAAEAAAIAAAAAAQAACgAAAAABAAAEAAAAAAEAAAAAAAAAAQAAAgAAAAABAAAKAAAAAAEAAAQAAAAAAQAAAAAAAAABAAACAAAAAAEAAAoAAAAAAQAABAAAAAABAAAAAAAAAAEAAAIAAAAAAQAACgAAAAABAAAEAAAAAAEAAAAAAAAAAQAAAgAAAAABAAAKAAAAAAEAAAQAAAAAAQAAAAAAAAABAAACAAAAAAEAAAoAAAAAAQAABAAAAAABAAAAAAAAAAEAAAIAAAAAAQAACgAAAAABAAAEAAAAAAEAAAAAAAAAAQAAAgAAAAABAAAKAAAAAAEAAAQAAAAAAQAAAAAAAAABAAACAAAAAAEAAAoAAAAAAQAABAAAAAABAAAAAAAAAAEAAAIAAAAAAQAACgAAAAABAAAEAAAAAAEAAAAAAAAAAQAAAgAAAAABAAAIAAAAAAIAAAIAAAAAAQAACgAAAAABAAAEAAAAAAEAAAAAAAAAAQAAAgAAAAABAAAKAAAAAAEAAAQAAAAAAQAAAAAAAAABAAACAAAAAAEAAAoAAAAAAQAABAAAAAABAAAAAAAAAAEAAAIAAAAAAQAACgAAAAABAAAEAAAAAAEAAAAAAAAAAQAAAgAAAAABAAAIAAAAAAIAAAIAAAAAAQAABgAAAAABAAACAAAAAAEAAAoAAAAAAQAABAAAAAABAAAAAAAAAAEAAAIAAAAAAQAACAAAAAACAAACAAAAAAEAAAYAAAAAAQAAAgAAAAAcc3RzYwAAAAAAAAABAAAAAQAAAMgAAAABAAADNHN0c3oAAAAAAAAAAAAAAMgAAAU5AAAAyQAAAFkAAAAnAAAAPgAAAHEAAABVAAAALQAAADwAAACOAAAARwAAACMAAAA1AAAAaAAAAHIAAABwAAAARwAAACYAAAAsAAAAiQAAAEUAAABvAAAANQAAAGMAAAAyAAAAYAAAAEwAAAB1AAAARAAAAEoAAABQAAAAUAAAADoAAAA/AAAAgwAAAEcAAABEAAAAQwAAAGwAAAA7AAAAKAAAADoAAABlAAAALQAAADoAAABsAAAAPQAAACcAAAArAAAAQQAAAD4AAAB3AAAAKgAAADwAAAA9AAAAQgAAACcAAABKAAAASQAAAHkAAAAoAAAAQAAAAD0AAAB7AAAAJgAAADQAAAA1AAAAYgAAACcAAABZAAAARgAAAHcAAAAuAAAALwAAAC8AAABzAAAASgAAADAAAAApAAAAYQAAAEcAAAA6AAAAPwAAAHwAAAAyAAAARwAAAEcAAABnAAAARQAAAEcAAABaAAAAdQAAAE0AAABOAAAASgAAAFAAAAAyAAAALgAAABsAAAChAAAAOgAAADUAAAAxAAAAggAAAFsAAABEAAAAcwAAAHsAAAA/AAAAUQAAAE0AAACDAAAAOAAAAFQAAAA1AAAAYAAAAFcAAABJAAAASgAAAGkAAABOAAAAPgAAAD4AAABlAAAAMAAAAEEAAAA4AAAAUAAAAFEAAAA8AAAAQQAAAIQAAABDAAAAOgAAACoAAABgAAAAaQAAAEwAAABNAAAAgQAAAFAAAAAwAAAASwAAAF4AAAA8AAAASAAAAE4AAAC0AAAAVgAAAEwAAABNAAAAhwAAAEIAAABVAAAAQwAAAGoAAAA6AAAAOwAAAEEAAAB/AAAASwAAAEsAAABFAAAAlgAAAFMAAAA2AAAAQQAAAKIAAABPAAAAWAAAAH8AAABdAAAAPQAAADgAAACDAAAATwAAAFkAAABeAAAAfAAAAEsAAABhAAAAZAAAALIAAABcAAAATQAAAGgAAACRAAAAVQAAAFYAAABvAAAASwAAAF4AAABAAAAATAAAAE8AAAB7AAAASAAAAEUAAABUAAAAXQAAABRzdGNvAAAAAAAAAAEAAAAwAAAAYnVkdGEAAABabWV0YQAAAAAAAAAhaGRscgAAAAAAAAAAbWRpcmFwcGwAAAAAAAAAAAAAAAAtaWxzdAAAACWpdG9vAAAAHWRhdGEAAAABAAAAAExhdmY1Ny44My4xMDA=\" type=\"video/mp4\" />\n",
              "        </video>"
            ],
            "text/plain": [
              "<IPython.core.display.HTML object>"
            ]
          },
          "metadata": {
            "tags": []
          },
          "execution_count": 28
        }
      ]
    },
    {
      "cell_type": "markdown",
      "metadata": {
        "id": "CSbVNDpaVb3_"
      },
      "source": [
        "How does the agent perform? Could you train it for shorter amounts of time and still perform well? Do you think that training longer would help even more? "
      ]
    },
    {
      "cell_type": "markdown",
      "metadata": {
        "id": "Eu6Mqxc720ST"
      },
      "source": [
        "#Part 2: Pong\n",
        "\n",
        "In Cartpole, we dealt with an environment that was static -- in other words, it didn't change over time. What happens if our environment is dynamic and unpredictable? Well that's exactly the case in [Pong](https://en.wikipedia.org/wiki/Pong), since part of the environment is the opposing player. We don't know how our opponent will act or react to our actions, so the complexity of our problem increases. It also becomes much more interesting, since we can compete to beat our opponent. RL provides a powerful framework for training AI systems with the ability to handle and interact with dynamic, unpredictable environments. In this part of the lab, we'll use the tools and workflow we explored in Part 1 to build an RL agent capable of playing the game of Pong.\n"
      ]
    },
    {
      "cell_type": "markdown",
      "metadata": {
        "id": "srZ4YE29isuA"
      },
      "source": [
        "## 3.6 Define and inspect the Pong environment\n",
        "\n",
        "As with Cartpole, we'll instantiate the Pong environment in the OpenAI gym, using a seed of 1."
      ]
    },
    {
      "cell_type": "code",
      "metadata": {
        "id": "lbYHLr66i15n"
      },
      "source": [
        "env = gym.make(\"Pong-v0\", frameskip=5)\n",
        "env.seed(1); # for reproducibility"
      ],
      "execution_count": 30,
      "outputs": []
    },
    {
      "cell_type": "markdown",
      "metadata": {
        "id": "52uZ2Xhyi-MW"
      },
      "source": [
        "Let's next consider the observation space for the Pong environment. Instead of four physical descriptors of the cart-pole setup, in the case of Pong our observations are the individual video frames (i.e., images) that depict the state of the board. Thus, the observations are 210x160 RGB images (arrays of shape (210,160,3)).\n",
        "\n",
        "We can again confirm the size of the observation space by query:"
      ]
    },
    {
      "cell_type": "code",
      "metadata": {
        "id": "0yX4GWvxjnHS",
        "colab": {
          "base_uri": "https://localhost:8080/"
        },
        "outputId": "9a6c66b0-7c0b-4226-cf94-bc4870319db8"
      },
      "source": [
        "print(\"Environment has observation space =\", env.observation_space)"
      ],
      "execution_count": 31,
      "outputs": [
        {
          "output_type": "stream",
          "text": [
            "Environment has observation space = Box(0, 255, (210, 160, 3), uint8)\n"
          ],
          "name": "stdout"
        }
      ]
    },
    {
      "cell_type": "markdown",
      "metadata": {
        "id": "uuEC2TdSjx9D"
      },
      "source": [
        "In Pong, at every time step, the agent (which controls the paddle) has six actions to choose from: no-op (no operation), move right, move left, fire, fire right, and fire left. Let's confirm the size of the action space by querying the environment:"
      ]
    },
    {
      "cell_type": "code",
      "metadata": {
        "id": "Iuy9oPc1kag3",
        "colab": {
          "base_uri": "https://localhost:8080/"
        },
        "outputId": "c10557e5-5de2-4cdd-f6ef-bf477584261f"
      },
      "source": [
        "n_actions = env.action_space.n\n",
        "print(\"Number of possible actions that the agent can choose from =\", n_actions)"
      ],
      "execution_count": 32,
      "outputs": [
        {
          "output_type": "stream",
          "text": [
            "Number of possible actions that the agent can choose from = 6\n"
          ],
          "name": "stdout"
        }
      ]
    },
    {
      "cell_type": "markdown",
      "metadata": {
        "id": "9-fghDRigUE5"
      },
      "source": [
        "## 3.7 Define the Pong agent\n",
        "\n",
        "As before, we'll use a neural network to define our agent. What network architecture do you think would be especially well suited to this game? Since our observations are now in the form of images, we'll add convolutional layers to the network to increase the learning capacity of our network."
      ]
    },
    {
      "cell_type": "code",
      "metadata": {
        "id": "IJiqbFYpgYRH"
      },
      "source": [
        "### Define the Pong agent ###\n",
        "\n",
        "# Functionally define layers for convenience\n",
        "# All convolutional layers will have ReLu activation\n",
        "Conv2D = functools.partial(tf.keras.layers.Conv2D, padding='same', activation='relu')\n",
        "Flatten = tf.keras.layers.Flatten\n",
        "Dense = tf.keras.layers.Dense\n",
        "\n",
        "# Defines a CNN for the Pong agent\n",
        "def create_pong_model():\n",
        "  model = tf.keras.models.Sequential([\n",
        "    # Convolutional layers\n",
        "    # First, 16 7x7 filters with 4x4 stride\n",
        "    Conv2D(filters=16, kernel_size=7, strides=4),\n",
        "\n",
        "    # TODO: define convolutional layers with 32 5x5 filters and 2x2 stride\n",
        "    Conv2D(filters=32, kernel_size=5, strides=2),\n",
        "\n",
        "    # TODO: define convolutional layers with 48 3x3 filters and 2x2 stride\n",
        "    Conv2D(filters=48, kernel_size=3, strides=2),\n",
        "\n",
        "    Flatten(),\n",
        "    \n",
        "    # Fully connected layer and output\n",
        "    Dense(units=64, activation='relu'),\n",
        "    # TODO: define the output dimension of the last Dense layer. \n",
        "    # Pay attention to the space the agent needs to act in\n",
        "    Dense(units=n_actions, activation=None)\n",
        "  \n",
        "  ])\n",
        "  return model\n",
        "\n",
        "pong_model = create_pong_model()"
      ],
      "execution_count": 33,
      "outputs": []
    },
    {
      "cell_type": "markdown",
      "metadata": {
        "id": "yaeZ067olFiJ"
      },
      "source": [
        "Since we've already defined the action function, `choose_action(model, observation)`, we don't need to define it again. Instead, we'll be able to reuse it later on by passing in our new model we've just created, `pong_model`. This is awesome because our action function provides a modular and generalizable method for all sorts of RL agents!"
      ]
    },
    {
      "cell_type": "markdown",
      "metadata": {
        "id": "l0RvqOVkmc2r"
      },
      "source": [
        "## 3.8 Pong-specific functions\n",
        "\n",
        "In Part 1 (Cartpole), we implemented some key functions and classes to build and train our RL agent -- `choose_action(model, observation)` and the `Memory` class, for example. However, in getting ready to apply these to a new game like Pong, we might need to make some slight modifications. \n",
        "\n",
        "Namely, we need to think about what happens when a game ends. In Pong, we know a game has ended if the reward is +1 (we won!) or -1 (we lost unfortunately). Otherwise, we expect the reward at a timestep to be zero -- the players (or agents) are just playing eachother. So, after a game ends, we will need to reset the reward to zero when a game ends. This will result in a modified reward function."
      ]
    },
    {
      "cell_type": "code",
      "metadata": {
        "id": "iEZG2o50luLu"
      },
      "source": [
        "### Pong reward function ###\n",
        "\n",
        "# Compute normalized, discounted rewards for Pong (i.e., return)\n",
        "# Arguments:\n",
        "#   rewards: reward at timesteps in episode\n",
        "#   gamma: discounting factor. Note increase to 0.99 -- rate of depreciation will be slower.\n",
        "# Returns:\n",
        "#   normalized discounted reward\n",
        "def discount_rewards(rewards, gamma=0.99): \n",
        "  discounted_rewards = np.zeros_like(rewards)\n",
        "  R = 0\n",
        "  for t in reversed(range(0, len(rewards))):\n",
        "      # NEW: Reset the sum if the reward is not 0 (the game has ended!)\n",
        "      if rewards[t] != 0:\n",
        "        R = 0\n",
        "      # update the total discounted reward as before\n",
        "      R = R * gamma + rewards[t]\n",
        "      discounted_rewards[t] = R\n",
        "      \n",
        "  return normalize(discounted_rewards)"
      ],
      "execution_count": 34,
      "outputs": []
    },
    {
      "cell_type": "markdown",
      "metadata": {
        "id": "HopLpb4IoOqA"
      },
      "source": [
        "Additionally, we have to consider the nature of the observations in the Pong environment, and how they will be fed into our network. Our observations in this case are images. Before we input an image into our network, we'll do a bit of pre-processing to crop and scale, clean up the background colors to a single color, and set the important game elements to a single color. Let's use this function to visualize what an observation might look like before and after pre-processing."
      ]
    },
    {
      "cell_type": "code",
      "metadata": {
        "id": "no5IIYtFm8pI",
        "colab": {
          "base_uri": "https://localhost:8080/",
          "height": 227
        },
        "outputId": "bea17412-7868-49dd-b904-bf2ff1b73225"
      },
      "source": [
        "observation = env.reset()\n",
        "for i in range(30):\n",
        "  observation, _,_,_ = env.step(0)\n",
        "observation_pp = mdl.lab3.preprocess_pong(observation)\n",
        "\n",
        "f = plt.figure(figsize=(10,3))\n",
        "ax = f.add_subplot(121)\n",
        "ax2 = f.add_subplot(122)\n",
        "ax.imshow(observation); ax.grid(False);\n",
        "ax2.imshow(np.squeeze(observation_pp)); ax2.grid(False); plt.title('Preprocessed Observation');"
      ],
      "execution_count": 35,
      "outputs": [
        {
          "output_type": "display_data",
          "data": {
            "image/png": "[encoded data removed]",
            "text/plain": [
              "<Figure size 720x216 with 2 Axes>"
            ]
          },
          "metadata": {
            "tags": [],
            "needs_background": "light"
          }
        }
      ]
    },
    {
      "cell_type": "markdown",
      "metadata": {
        "id": "bYwIWC-Cz8F2"
      },
      "source": [
        "What do you notice? How might these changes be important for training our RL algorithm?"
      ]
    },
    {
      "cell_type": "markdown",
      "metadata": {
        "id": "mRqcaDQ1pm3x"
      },
      "source": [
        "## 3.9 Training Pong\n",
        "\n",
        "We're now all set up to start training our RL algorithm and agent for the game of Pong! We've already defined our loss function with `compute_loss`, which employs policy gradient learning, as well as our backpropagation step with `train_step` which is beautiful! We will use these functions to execute training the Pong agent. Let's walk through the training block.\n",
        "\n",
        "In Pong, rather than feeding our network one image at a time, it can actually improve performance to input the difference between two consecutive observations, which really gives us information about the movement between frames -- how the game is changing. We'll first pre-process the raw observation, `x`, and then we'll compute the difference with the image frame we saw one timestep before. \n",
        "\n",
        "This observation change will be forward propagated through our Pong agent, the CNN network model, which will then predict the next action to take based on this observation. The raw reward will be computed, and the observation, action, and reward will be recorded into memory. This will continue until a training episode, i.e., a game, ends.\n",
        "\n",
        "Then, we will compute the discounted rewards, and use this information to execute a training step. Memory will be cleared, and we will do it all over again!\n",
        "\n",
        "Let's run the code block to train our Pong agent. Note that completing training will take quite a bit of time (estimated at least a couple of hours). We will again visualize the evolution of the total reward as a function of training to get a sense of how the agent is learning."
      ]
    },
    {
      "cell_type": "code",
      "metadata": {
        "id": "xCwyQQrPnkZG",
        "colab": {
          "base_uri": "https://localhost:8080/",
          "height": 375
        },
        "outputId": "77121ff5-f32b-4913-ba7d-97ea105126aa"
      },
      "source": [
        "### Training Pong ###\n",
        "\n",
        "# Hyperparameters\n",
        "learning_rate=1e-4\n",
        "MAX_ITERS = 1000 # increase the maximum number of episodes, since Pong is more complex!\n",
        "\n",
        "# Model and optimizer\n",
        "pong_model = create_pong_model()\n",
        "optimizer = tf.keras.optimizers.Adam(learning_rate)\n",
        "\n",
        "# plotting\n",
        "smoothed_reward = mdl.util.LossHistory(smoothing_factor=0.9)\n",
        "plotter = mdl.util.PeriodicPlotter(sec=5, xlabel='Iterations', ylabel='Rewards')\n",
        "memory = Memory()\n",
        "\n",
        "for i_episode in range(MAX_ITERS):\n",
        "\n",
        "  plotter.plot(smoothed_reward.get())\n",
        "\n",
        "  # Restart the environment\n",
        "  observation = env.reset()\n",
        "  previous_frame = mdl.lab3.preprocess_pong(observation)\n",
        "\n",
        "  while True:\n",
        "      # Pre-process image \n",
        "      current_frame = mdl.lab3.preprocess_pong(observation)\n",
        "      \n",
        "      '''TODO: determine the observation change\n",
        "      Hint: this is the difference between the past two frames'''\n",
        "      obs_change = current_frame - previous_frame\n",
        "      \n",
        "      '''TODO: choose an action for the pong model, using the frame difference, and evaluate'''\n",
        "      action = choose_action(pong_model, obs_change)\n",
        "      # Take the chosen action\n",
        "      next_observation, reward, done, info = env.step(action)\n",
        "\n",
        "      '''TODO: save the observed frame difference, the action that was taken, and the resulting reward!'''\n",
        "      memory.add_to_memory(next_observation, reward, action)\n",
        "      \n",
        "      # is the episode over? did you crash or do so well that you're done?\n",
        "      if done:\n",
        "          # determine total reward and keep a record of this\n",
        "          total_reward = sum(memory.rewards)\n",
        "          smoothed_reward.append( total_reward )\n",
        "\n",
        "          # begin training\n",
        "          train_step(pong_model, \n",
        "                     optimizer, \n",
        "                     observations = np.stack(memory.observations, 0), \n",
        "                     actions = np.array(memory.actions),\n",
        "                     discounted_rewards = discount_rewards(memory.rewards))\n",
        "          \n",
        "          memory.clear()\n",
        "          break\n",
        "\n",
        "      observation = next_observation\n",
        "      previous_frame = current_frame"
      ],
      "execution_count": 36,
      "outputs": [
        {
          "output_type": "error",
          "ename": "UFuncTypeError",
          "evalue": "ignored",
          "traceback": [
            "\u001b[0;31m---------------------------------------------------------------------------\u001b[0m",
            "\u001b[0;31mUFuncTypeError\u001b[0m                            Traceback (most recent call last)",
            "\u001b[0;32m<ipython-input-36-63fbd4106144>\u001b[0m in \u001b[0;36m<module>\u001b[0;34m()\u001b[0m\n\u001b[1;32m     49\u001b[0m                      \u001b[0mobservations\u001b[0m \u001b[0;34m=\u001b[0m \u001b[0mnp\u001b[0m\u001b[0;34m.\u001b[0m\u001b[0mstack\u001b[0m\u001b[0;34m(\u001b[0m\u001b[0mmemory\u001b[0m\u001b[0;34m.\u001b[0m\u001b[0mobservations\u001b[0m\u001b[0;34m,\u001b[0m \u001b[0;36m0\u001b[0m\u001b[0;34m)\u001b[0m\u001b[0;34m,\u001b[0m\u001b[0;34m\u001b[0m\u001b[0;34m\u001b[0m\u001b[0m\n\u001b[1;32m     50\u001b[0m                      \u001b[0mactions\u001b[0m \u001b[0;34m=\u001b[0m \u001b[0mnp\u001b[0m\u001b[0;34m.\u001b[0m\u001b[0marray\u001b[0m\u001b[0;34m(\u001b[0m\u001b[0mmemory\u001b[0m\u001b[0;34m.\u001b[0m\u001b[0mactions\u001b[0m\u001b[0;34m)\u001b[0m\u001b[0;34m,\u001b[0m\u001b[0;34m\u001b[0m\u001b[0;34m\u001b[0m\u001b[0m\n\u001b[0;32m---> 51\u001b[0;31m                      discounted_rewards = discount_rewards(memory.rewards))\n\u001b[0m\u001b[1;32m     52\u001b[0m \u001b[0;34m\u001b[0m\u001b[0m\n\u001b[1;32m     53\u001b[0m           \u001b[0mmemory\u001b[0m\u001b[0;34m.\u001b[0m\u001b[0mclear\u001b[0m\u001b[0;34m(\u001b[0m\u001b[0;34m)\u001b[0m\u001b[0;34m\u001b[0m\u001b[0;34m\u001b[0m\u001b[0m\n",
            "\u001b[0;32m<ipython-input-34-ee7142984acd>\u001b[0m in \u001b[0;36mdiscount_rewards\u001b[0;34m(rewards, gamma)\u001b[0m\n\u001b[1;32m     18\u001b[0m       \u001b[0mdiscounted_rewards\u001b[0m\u001b[0;34m[\u001b[0m\u001b[0mt\u001b[0m\u001b[0;34m]\u001b[0m \u001b[0;34m=\u001b[0m \u001b[0mR\u001b[0m\u001b[0;34m\u001b[0m\u001b[0;34m\u001b[0m\u001b[0m\n\u001b[1;32m     19\u001b[0m \u001b[0;34m\u001b[0m\u001b[0m\n\u001b[0;32m---> 20\u001b[0;31m   \u001b[0;32mreturn\u001b[0m \u001b[0mnormalize\u001b[0m\u001b[0;34m(\u001b[0m\u001b[0mdiscounted_rewards\u001b[0m\u001b[0;34m)\u001b[0m\u001b[0;34m\u001b[0m\u001b[0;34m\u001b[0m\u001b[0m\n\u001b[0m",
            "\u001b[0;32m<ipython-input-15-5987020d0153>\u001b[0m in \u001b[0;36mnormalize\u001b[0;34m(x)\u001b[0m\n\u001b[1;32m      3\u001b[0m \u001b[0;31m# Helper function that normalizes an np.array x\u001b[0m\u001b[0;34m\u001b[0m\u001b[0;34m\u001b[0m\u001b[0;34m\u001b[0m\u001b[0m\n\u001b[1;32m      4\u001b[0m \u001b[0;32mdef\u001b[0m \u001b[0mnormalize\u001b[0m\u001b[0;34m(\u001b[0m\u001b[0mx\u001b[0m\u001b[0;34m)\u001b[0m\u001b[0;34m:\u001b[0m\u001b[0;34m\u001b[0m\u001b[0;34m\u001b[0m\u001b[0m\n\u001b[0;32m----> 5\u001b[0;31m   \u001b[0mx\u001b[0m \u001b[0;34m-=\u001b[0m \u001b[0mnp\u001b[0m\u001b[0;34m.\u001b[0m\u001b[0mmean\u001b[0m\u001b[0;34m(\u001b[0m\u001b[0mx\u001b[0m\u001b[0;34m)\u001b[0m\u001b[0;34m\u001b[0m\u001b[0;34m\u001b[0m\u001b[0m\n\u001b[0m\u001b[1;32m      6\u001b[0m   \u001b[0mx\u001b[0m \u001b[0;34m/=\u001b[0m \u001b[0mnp\u001b[0m\u001b[0;34m.\u001b[0m\u001b[0mstd\u001b[0m\u001b[0;34m(\u001b[0m\u001b[0mx\u001b[0m\u001b[0;34m)\u001b[0m\u001b[0;34m\u001b[0m\u001b[0;34m\u001b[0m\u001b[0m\n\u001b[1;32m      7\u001b[0m   \u001b[0;32mreturn\u001b[0m \u001b[0mx\u001b[0m\u001b[0;34m.\u001b[0m\u001b[0mastype\u001b[0m\u001b[0;34m(\u001b[0m\u001b[0mnp\u001b[0m\u001b[0;34m.\u001b[0m\u001b[0mfloat32\u001b[0m\u001b[0;34m)\u001b[0m\u001b[0;34m\u001b[0m\u001b[0;34m\u001b[0m\u001b[0m\n",
            "\u001b[0;31mUFuncTypeError\u001b[0m: Cannot cast ufunc 'subtract' output from dtype('float64') to dtype('int64') with casting rule 'same_kind'"
          ]
        }
      ]
    },
    {
      "cell_type": "markdown",
      "metadata": {
        "id": "8LiEY5Y_ts-Z"
      },
      "source": [
        "Finally we can put our trained agent to the test! It will play in a newly instantiated Pong environment against the \"computer\", a base AI system for Pong. Your agent plays as the green paddle. Let's watch the match instant replay!"
      ]
    },
    {
      "cell_type": "code",
      "metadata": {
        "id": "TvHXbkL0tR6M"
      },
      "source": [
        "saved_pong = mdl.lab3.save_video_of_model(\n",
        "    pong_model, \"Pong-v0\", obs_diff=True, \n",
        "    pp_fn=mdl.lab3.preprocess_pong)\n",
        "mdl.lab3.play_video(saved_pong)"
      ],
      "execution_count": null,
      "outputs": []
    },
    {
      "cell_type": "markdown",
      "metadata": {
        "id": "TIlwIgBP3Js6"
      },
      "source": [
        "## 3.10 Conclusion\n",
        "\n",
        "That's it! Congratulations on training two RL agents and putting them to the test! We encourage you to consider the following:\n",
        "\n",
        "*   How does the agent perform?\n",
        "*   Could you train it for shorter amounts of time  and still perform well?\n",
        "*   Do you think that training longer would help even more? \n",
        "* How does the complexity of Pong relative to Cartpole alter the rate at which the agent learns and its performance? \n",
        "* What are some things you could change about the agent or the learning process to potentially improve performance?\n",
        "\n",
        "If you want to go further, try to optimize your model to achieve the best performance! **[Email us](mailto:introtodeeplearning-staff@mit.edu) a copy of your notebook with the Pong training executed AND a saved video of your Pong agent competing! We'll give out prizes to the best performers!**"
      ]
    }
  ]
}